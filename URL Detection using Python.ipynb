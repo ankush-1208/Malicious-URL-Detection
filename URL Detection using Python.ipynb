{
 "cells": [
  {
   "cell_type": "markdown",
   "id": "efe4500b",
   "metadata": {},
   "source": [
    "# Malicious URL Detection using Machine Learning"
   ]
  },
  {
   "cell_type": "markdown",
   "id": "37dcb8e2",
   "metadata": {},
   "source": [
    "#### Importing the neccessary packages"
   ]
  },
  {
   "cell_type": "code",
   "execution_count": 133,
   "id": "8a6a4249",
   "metadata": {},
   "outputs": [],
   "source": [
    "import pandas as pd\n",
    "import numpy as np\n",
    "import random\n",
    "import matplotlib.pyplot as plt\n",
    "from matplotlib.pyplot import figure\n",
    "import seaborn as sns\n",
    "\n",
    "from time import process_time\n",
    "from nltk.tokenize import RegexpTokenizer\n",
    "from sklearn.feature_extraction.text import CountVectorizer\n",
    "from sklearn.feature_extraction.text import TfidfVectorizer\n",
    "from sklearn.linear_model import LogisticRegression\n",
    "from sklearn.model_selection import train_test_split\n",
    "from sklearn.pipeline import make_pipeline\n",
    "from sklearn.metrics import confusion_matrix\n",
    "import pickle"
   ]
  },
  {
   "cell_type": "code",
   "execution_count": 4,
   "id": "af1cb1f2",
   "metadata": {},
   "outputs": [],
   "source": [
    "# Importing the datasets\n",
    "url_df_1 = pd.read_csv('urldata.csv')\n",
    "url_df_2 = pd.read_csv('phishing_site_urls.csv')"
   ]
  },
  {
   "cell_type": "markdown",
   "id": "ea9005be",
   "metadata": {},
   "source": [
    "## Exploratory Data Analysis"
   ]
  },
  {
   "cell_type": "code",
   "execution_count": 5,
   "id": "cc43374f",
   "metadata": {},
   "outputs": [
    {
     "data": {
      "text/html": [
       "<div>\n",
       "<style scoped>\n",
       "    .dataframe tbody tr th:only-of-type {\n",
       "        vertical-align: middle;\n",
       "    }\n",
       "\n",
       "    .dataframe tbody tr th {\n",
       "        vertical-align: top;\n",
       "    }\n",
       "\n",
       "    .dataframe thead th {\n",
       "        text-align: right;\n",
       "    }\n",
       "</style>\n",
       "<table border=\"1\" class=\"dataframe\">\n",
       "  <thead>\n",
       "    <tr style=\"text-align: right;\">\n",
       "      <th></th>\n",
       "      <th>url</th>\n",
       "      <th>label</th>\n",
       "    </tr>\n",
       "  </thead>\n",
       "  <tbody>\n",
       "    <tr>\n",
       "      <th>0</th>\n",
       "      <td>diaryofagameaddict.com</td>\n",
       "      <td>bad</td>\n",
       "    </tr>\n",
       "    <tr>\n",
       "      <th>1</th>\n",
       "      <td>espdesign.com.au</td>\n",
       "      <td>bad</td>\n",
       "    </tr>\n",
       "    <tr>\n",
       "      <th>2</th>\n",
       "      <td>iamagameaddict.com</td>\n",
       "      <td>bad</td>\n",
       "    </tr>\n",
       "    <tr>\n",
       "      <th>3</th>\n",
       "      <td>kalantzis.net</td>\n",
       "      <td>bad</td>\n",
       "    </tr>\n",
       "    <tr>\n",
       "      <th>4</th>\n",
       "      <td>slightlyoffcenter.net</td>\n",
       "      <td>bad</td>\n",
       "    </tr>\n",
       "    <tr>\n",
       "      <th>5</th>\n",
       "      <td>toddscarwash.com</td>\n",
       "      <td>bad</td>\n",
       "    </tr>\n",
       "    <tr>\n",
       "      <th>6</th>\n",
       "      <td>tubemoviez.com</td>\n",
       "      <td>bad</td>\n",
       "    </tr>\n",
       "    <tr>\n",
       "      <th>7</th>\n",
       "      <td>ipl.hk</td>\n",
       "      <td>bad</td>\n",
       "    </tr>\n",
       "    <tr>\n",
       "      <th>8</th>\n",
       "      <td>crackspider.us/toolbar/install.php?pack=exe</td>\n",
       "      <td>bad</td>\n",
       "    </tr>\n",
       "    <tr>\n",
       "      <th>9</th>\n",
       "      <td>pos-kupang.com/</td>\n",
       "      <td>bad</td>\n",
       "    </tr>\n",
       "  </tbody>\n",
       "</table>\n",
       "</div>"
      ],
      "text/plain": [
       "                                           url label\n",
       "0                       diaryofagameaddict.com   bad\n",
       "1                             espdesign.com.au   bad\n",
       "2                           iamagameaddict.com   bad\n",
       "3                                kalantzis.net   bad\n",
       "4                        slightlyoffcenter.net   bad\n",
       "5                             toddscarwash.com   bad\n",
       "6                               tubemoviez.com   bad\n",
       "7                                       ipl.hk   bad\n",
       "8  crackspider.us/toolbar/install.php?pack=exe   bad\n",
       "9                              pos-kupang.com/   bad"
      ]
     },
     "execution_count": 5,
     "metadata": {},
     "output_type": "execute_result"
    }
   ],
   "source": [
    "url_df_1.head(10)"
   ]
  },
  {
   "cell_type": "code",
   "execution_count": 6,
   "id": "772acf0f",
   "metadata": {},
   "outputs": [
    {
     "data": {
      "text/html": [
       "<div>\n",
       "<style scoped>\n",
       "    .dataframe tbody tr th:only-of-type {\n",
       "        vertical-align: middle;\n",
       "    }\n",
       "\n",
       "    .dataframe tbody tr th {\n",
       "        vertical-align: top;\n",
       "    }\n",
       "\n",
       "    .dataframe thead th {\n",
       "        text-align: right;\n",
       "    }\n",
       "</style>\n",
       "<table border=\"1\" class=\"dataframe\">\n",
       "  <thead>\n",
       "    <tr style=\"text-align: right;\">\n",
       "      <th></th>\n",
       "      <th>URL</th>\n",
       "      <th>Label</th>\n",
       "    </tr>\n",
       "  </thead>\n",
       "  <tbody>\n",
       "    <tr>\n",
       "      <th>0</th>\n",
       "      <td>nobell.it/70ffb52d079109dca5664cce6f317373782/...</td>\n",
       "      <td>bad</td>\n",
       "    </tr>\n",
       "    <tr>\n",
       "      <th>1</th>\n",
       "      <td>www.dghjdgf.com/paypal.co.uk/cycgi-bin/webscrc...</td>\n",
       "      <td>bad</td>\n",
       "    </tr>\n",
       "    <tr>\n",
       "      <th>2</th>\n",
       "      <td>serviciosbys.com/paypal.cgi.bin.get-into.herf....</td>\n",
       "      <td>bad</td>\n",
       "    </tr>\n",
       "    <tr>\n",
       "      <th>3</th>\n",
       "      <td>mail.printakid.com/www.online.americanexpress....</td>\n",
       "      <td>bad</td>\n",
       "    </tr>\n",
       "    <tr>\n",
       "      <th>4</th>\n",
       "      <td>thewhiskeydregs.com/wp-content/themes/widescre...</td>\n",
       "      <td>bad</td>\n",
       "    </tr>\n",
       "    <tr>\n",
       "      <th>5</th>\n",
       "      <td>smilesvoegol.servebbs.org/voegol.php</td>\n",
       "      <td>bad</td>\n",
       "    </tr>\n",
       "    <tr>\n",
       "      <th>6</th>\n",
       "      <td>premierpaymentprocessing.com/includes/boleto-2...</td>\n",
       "      <td>bad</td>\n",
       "    </tr>\n",
       "    <tr>\n",
       "      <th>7</th>\n",
       "      <td>myxxxcollection.com/v1/js/jih321/bpd.com.do/do...</td>\n",
       "      <td>bad</td>\n",
       "    </tr>\n",
       "    <tr>\n",
       "      <th>8</th>\n",
       "      <td>super1000.info/docs</td>\n",
       "      <td>bad</td>\n",
       "    </tr>\n",
       "    <tr>\n",
       "      <th>9</th>\n",
       "      <td>horizonsgallery.com/js/bin/ssl1/_id/www.paypal...</td>\n",
       "      <td>bad</td>\n",
       "    </tr>\n",
       "  </tbody>\n",
       "</table>\n",
       "</div>"
      ],
      "text/plain": [
       "                                                 URL Label\n",
       "0  nobell.it/70ffb52d079109dca5664cce6f317373782/...   bad\n",
       "1  www.dghjdgf.com/paypal.co.uk/cycgi-bin/webscrc...   bad\n",
       "2  serviciosbys.com/paypal.cgi.bin.get-into.herf....   bad\n",
       "3  mail.printakid.com/www.online.americanexpress....   bad\n",
       "4  thewhiskeydregs.com/wp-content/themes/widescre...   bad\n",
       "5               smilesvoegol.servebbs.org/voegol.php   bad\n",
       "6  premierpaymentprocessing.com/includes/boleto-2...   bad\n",
       "7  myxxxcollection.com/v1/js/jih321/bpd.com.do/do...   bad\n",
       "8                                super1000.info/docs   bad\n",
       "9  horizonsgallery.com/js/bin/ssl1/_id/www.paypal...   bad"
      ]
     },
     "execution_count": 6,
     "metadata": {},
     "output_type": "execute_result"
    }
   ],
   "source": [
    "url_df_2.head(10)"
   ]
  },
  {
   "cell_type": "code",
   "execution_count": 7,
   "id": "2814796e",
   "metadata": {},
   "outputs": [
    {
     "data": {
      "text/plain": [
       "False"
      ]
     },
     "execution_count": 7,
     "metadata": {},
     "output_type": "execute_result"
    }
   ],
   "source": [
    "# Checking for null values in the datasets\n",
    "url_df_1.isnull().values.any()"
   ]
  },
  {
   "cell_type": "code",
   "execution_count": 8,
   "id": "66fd6754",
   "metadata": {},
   "outputs": [
    {
     "data": {
      "text/plain": [
       "False"
      ]
     },
     "execution_count": 8,
     "metadata": {},
     "output_type": "execute_result"
    }
   ],
   "source": [
    "url_df_2.isnull().values.any()"
   ]
  },
  {
   "cell_type": "markdown",
   "id": "070ccd9b",
   "metadata": {},
   "source": [
    "#### As we can see there aren't any null values in both the datasets, now we shall see the total number of entries in each dataset."
   ]
  },
  {
   "cell_type": "code",
   "execution_count": 9,
   "id": "9c404006",
   "metadata": {
    "scrolled": true
   },
   "outputs": [
    {
     "name": "stdout",
     "output_type": "stream",
     "text": [
      "(420464, 2)\n",
      "(549346, 2)\n",
      "969810\n"
     ]
    }
   ],
   "source": [
    "# Total Entries in both datasets\n",
    "print(url_df_1.shape)\n",
    "print(url_df_2.shape)\n",
    "print(url_df_1['label'].count() + url_df_2['Label'].count())"
   ]
  },
  {
   "cell_type": "markdown",
   "id": "9a326858",
   "metadata": {},
   "source": [
    "### Merging the two datasets"
   ]
  },
  {
   "cell_type": "code",
   "execution_count": 12,
   "id": "43aae5b0",
   "metadata": {},
   "outputs": [],
   "source": [
    "# Renaming the columns in the second dataset so that they match with the first one\n",
    "url_df_2 = url_df_2.rename(columns={'URL': 'url', 'Label': 'label'})\n",
    "url_df = pd.merge(url_df_1, url_df_2)"
   ]
  },
  {
   "cell_type": "code",
   "execution_count": 13,
   "id": "114f9ee8",
   "metadata": {},
   "outputs": [
    {
     "data": {
      "text/plain": [
       "(494374, 2)"
      ]
     },
     "execution_count": 13,
     "metadata": {},
     "output_type": "execute_result"
    }
   ],
   "source": [
    "url_df.shape"
   ]
  },
  {
   "cell_type": "markdown",
   "id": "21bda709",
   "metadata": {},
   "source": [
    "#### url_df is our main dataset and as we can see that there we many common values between the columns i.e. about 50% so now we are left with a total of about 5 lakh URLs to train our model with"
   ]
  },
  {
   "cell_type": "code",
   "execution_count": 14,
   "id": "78b025ea",
   "metadata": {},
   "outputs": [
    {
     "data": {
      "text/html": [
       "<div>\n",
       "<style scoped>\n",
       "    .dataframe tbody tr th:only-of-type {\n",
       "        vertical-align: middle;\n",
       "    }\n",
       "\n",
       "    .dataframe tbody tr th {\n",
       "        vertical-align: top;\n",
       "    }\n",
       "\n",
       "    .dataframe thead th {\n",
       "        text-align: right;\n",
       "    }\n",
       "</style>\n",
       "<table border=\"1\" class=\"dataframe\">\n",
       "  <thead>\n",
       "    <tr style=\"text-align: right;\">\n",
       "      <th></th>\n",
       "      <th>url</th>\n",
       "      <th>label</th>\n",
       "    </tr>\n",
       "  </thead>\n",
       "  <tbody>\n",
       "    <tr>\n",
       "      <th>count</th>\n",
       "      <td>494374</td>\n",
       "      <td>494374</td>\n",
       "    </tr>\n",
       "    <tr>\n",
       "      <th>unique</th>\n",
       "      <td>411247</td>\n",
       "      <td>2</td>\n",
       "    </tr>\n",
       "    <tr>\n",
       "      <th>top</th>\n",
       "      <td>jhomitevd2abj3fk.onion.to/</td>\n",
       "      <td>good</td>\n",
       "    </tr>\n",
       "    <tr>\n",
       "      <th>freq</th>\n",
       "      <td>1352</td>\n",
       "      <td>344869</td>\n",
       "    </tr>\n",
       "  </tbody>\n",
       "</table>\n",
       "</div>"
      ],
      "text/plain": [
       "                               url   label\n",
       "count                       494374  494374\n",
       "unique                      411247       2\n",
       "top     jhomitevd2abj3fk.onion.to/    good\n",
       "freq                          1352  344869"
      ]
     },
     "execution_count": 14,
     "metadata": {},
     "output_type": "execute_result"
    }
   ],
   "source": [
    "url_df.describe()"
   ]
  },
  {
   "cell_type": "code",
   "execution_count": 15,
   "id": "06a342d5",
   "metadata": {},
   "outputs": [
    {
     "name": "stdout",
     "output_type": "stream",
     "text": [
      "<class 'pandas.core.frame.DataFrame'>\n",
      "Int64Index: 494374 entries, 0 to 494373\n",
      "Data columns (total 2 columns):\n",
      " #   Column  Non-Null Count   Dtype \n",
      "---  ------  --------------   ----- \n",
      " 0   url     494374 non-null  object\n",
      " 1   label   494374 non-null  object\n",
      "dtypes: object(2)\n",
      "memory usage: 11.3+ MB\n"
     ]
    }
   ],
   "source": [
    "url_df.info()"
   ]
  },
  {
   "cell_type": "code",
   "execution_count": 16,
   "id": "87f8e4df",
   "metadata": {},
   "outputs": [
    {
     "name": "stdout",
     "output_type": "stream",
     "text": [
      "The number of good URLs in the dataset is: 344869\n",
      "The number of bad URLs in the dataset is: 149505\n"
     ]
    },
    {
     "data": {
      "image/png": "[encoded data removed]",
      "text/plain": [
       "<Figure size 576x432 with 1 Axes>"
      ]
     },
     "metadata": {
      "needs_background": "light"
     },
     "output_type": "display_data"
    }
   ],
   "source": [
    "# Visualising our data\n",
    "figure(figsize=(8, 6))\n",
    "print(f\"The number of good URLs in the dataset is: {url_df['label'].where(url_df['label'] == 'good').count()}\")\n",
    "print(f\"The number of bad URLs in the dataset is: {url_df['label'].where(url_df['label'] == 'bad').count()}\")\n",
    "plot = sns.barplot(x = ['Good', 'Bad'], y = url_df['label'].value_counts())\n",
    "plot.set(xlabel='Type', ylabel='Count')\n",
    "plt.show();"
   ]
  },
  {
   "cell_type": "markdown",
   "id": "baf940c0",
   "metadata": {},
   "source": [
    "We can see that the number of Good URLs is far more than Bad URLs in our dataset and that makes our data <b>imbalanced</b> we can try resampling to solve this particular issue."
   ]
  },
  {
   "cell_type": "code",
   "execution_count": 17,
   "id": "3de08e4c",
   "metadata": {},
   "outputs": [],
   "source": [
    "good_urls = url_df[url_df['label'] == 'good']\n",
    "bad_urls = url_df[url_df['label'] == 'bad']"
   ]
  },
  {
   "cell_type": "code",
   "execution_count": 18,
   "id": "6a99b295",
   "metadata": {},
   "outputs": [
    {
     "data": {
      "text/html": [
       "<div>\n",
       "<style scoped>\n",
       "    .dataframe tbody tr th:only-of-type {\n",
       "        vertical-align: middle;\n",
       "    }\n",
       "\n",
       "    .dataframe tbody tr th {\n",
       "        vertical-align: top;\n",
       "    }\n",
       "\n",
       "    .dataframe thead th {\n",
       "        text-align: right;\n",
       "    }\n",
       "</style>\n",
       "<table border=\"1\" class=\"dataframe\">\n",
       "  <thead>\n",
       "    <tr style=\"text-align: right;\">\n",
       "      <th></th>\n",
       "      <th>url</th>\n",
       "      <th>label</th>\n",
       "    </tr>\n",
       "  </thead>\n",
       "  <tbody>\n",
       "    <tr>\n",
       "      <th>57994</th>\n",
       "      <td>01453.com/</td>\n",
       "      <td>good</td>\n",
       "    </tr>\n",
       "    <tr>\n",
       "      <th>57995</th>\n",
       "      <td>015fb31.netsolhost.com/bosstweed.html</td>\n",
       "      <td>good</td>\n",
       "    </tr>\n",
       "    <tr>\n",
       "      <th>57996</th>\n",
       "      <td>02bee66.netsolhost.com/lincolnhomepage/</td>\n",
       "      <td>good</td>\n",
       "    </tr>\n",
       "    <tr>\n",
       "      <th>57997</th>\n",
       "      <td>02ec0a3.netsolhost.com/getperson.php?personID=...</td>\n",
       "      <td>good</td>\n",
       "    </tr>\n",
       "    <tr>\n",
       "      <th>57998</th>\n",
       "      <td>032255.com/</td>\n",
       "      <td>good</td>\n",
       "    </tr>\n",
       "    <tr>\n",
       "      <th>57999</th>\n",
       "      <td>05minute.com/</td>\n",
       "      <td>good</td>\n",
       "    </tr>\n",
       "    <tr>\n",
       "      <th>58000</th>\n",
       "      <td>07090.blogspot.com/2011/07/westfield-police-of...</td>\n",
       "      <td>good</td>\n",
       "    </tr>\n",
       "    <tr>\n",
       "      <th>58001</th>\n",
       "      <td>08nrc.blogspot.com/</td>\n",
       "      <td>good</td>\n",
       "    </tr>\n",
       "    <tr>\n",
       "      <th>58002</th>\n",
       "      <td>0creditcard.biz/</td>\n",
       "      <td>good</td>\n",
       "    </tr>\n",
       "    <tr>\n",
       "      <th>58003</th>\n",
       "      <td>0dayreggaedancehall.blogspot.com/</td>\n",
       "      <td>good</td>\n",
       "    </tr>\n",
       "  </tbody>\n",
       "</table>\n",
       "</div>"
      ],
      "text/plain": [
       "                                                     url label\n",
       "57994                                         01453.com/  good\n",
       "57995              015fb31.netsolhost.com/bosstweed.html  good\n",
       "57996            02bee66.netsolhost.com/lincolnhomepage/  good\n",
       "57997  02ec0a3.netsolhost.com/getperson.php?personID=...  good\n",
       "57998                                        032255.com/  good\n",
       "57999                                      05minute.com/  good\n",
       "58000  07090.blogspot.com/2011/07/westfield-police-of...  good\n",
       "58001                                08nrc.blogspot.com/  good\n",
       "58002                                   0creditcard.biz/  good\n",
       "58003                  0dayreggaedancehall.blogspot.com/  good"
      ]
     },
     "execution_count": 18,
     "metadata": {},
     "output_type": "execute_result"
    }
   ],
   "source": [
    "good_urls.head(10)"
   ]
  },
  {
   "cell_type": "code",
   "execution_count": 19,
   "id": "79176d5c",
   "metadata": {},
   "outputs": [
    {
     "data": {
      "text/html": [
       "<div>\n",
       "<style scoped>\n",
       "    .dataframe tbody tr th:only-of-type {\n",
       "        vertical-align: middle;\n",
       "    }\n",
       "\n",
       "    .dataframe tbody tr th {\n",
       "        vertical-align: top;\n",
       "    }\n",
       "\n",
       "    .dataframe thead th {\n",
       "        text-align: right;\n",
       "    }\n",
       "</style>\n",
       "<table border=\"1\" class=\"dataframe\">\n",
       "  <thead>\n",
       "    <tr style=\"text-align: right;\">\n",
       "      <th></th>\n",
       "      <th>url</th>\n",
       "      <th>label</th>\n",
       "    </tr>\n",
       "  </thead>\n",
       "  <tbody>\n",
       "    <tr>\n",
       "      <th>0</th>\n",
       "      <td>diaryofagameaddict.com</td>\n",
       "      <td>bad</td>\n",
       "    </tr>\n",
       "    <tr>\n",
       "      <th>1</th>\n",
       "      <td>espdesign.com.au</td>\n",
       "      <td>bad</td>\n",
       "    </tr>\n",
       "    <tr>\n",
       "      <th>2</th>\n",
       "      <td>iamagameaddict.com</td>\n",
       "      <td>bad</td>\n",
       "    </tr>\n",
       "    <tr>\n",
       "      <th>3</th>\n",
       "      <td>kalantzis.net</td>\n",
       "      <td>bad</td>\n",
       "    </tr>\n",
       "    <tr>\n",
       "      <th>4</th>\n",
       "      <td>slightlyoffcenter.net</td>\n",
       "      <td>bad</td>\n",
       "    </tr>\n",
       "    <tr>\n",
       "      <th>5</th>\n",
       "      <td>toddscarwash.com</td>\n",
       "      <td>bad</td>\n",
       "    </tr>\n",
       "    <tr>\n",
       "      <th>6</th>\n",
       "      <td>tubemoviez.com</td>\n",
       "      <td>bad</td>\n",
       "    </tr>\n",
       "    <tr>\n",
       "      <th>7</th>\n",
       "      <td>ipl.hk</td>\n",
       "      <td>bad</td>\n",
       "    </tr>\n",
       "    <tr>\n",
       "      <th>8</th>\n",
       "      <td>crackspider.us/toolbar/install.php?pack=exe</td>\n",
       "      <td>bad</td>\n",
       "    </tr>\n",
       "    <tr>\n",
       "      <th>9</th>\n",
       "      <td>pos-kupang.com/</td>\n",
       "      <td>bad</td>\n",
       "    </tr>\n",
       "  </tbody>\n",
       "</table>\n",
       "</div>"
      ],
      "text/plain": [
       "                                           url label\n",
       "0                       diaryofagameaddict.com   bad\n",
       "1                             espdesign.com.au   bad\n",
       "2                           iamagameaddict.com   bad\n",
       "3                                kalantzis.net   bad\n",
       "4                        slightlyoffcenter.net   bad\n",
       "5                             toddscarwash.com   bad\n",
       "6                               tubemoviez.com   bad\n",
       "7                                       ipl.hk   bad\n",
       "8  crackspider.us/toolbar/install.php?pack=exe   bad\n",
       "9                              pos-kupang.com/   bad"
      ]
     },
     "execution_count": 19,
     "metadata": {},
     "output_type": "execute_result"
    }
   ],
   "source": [
    "bad_urls.head(10)"
   ]
  },
  {
   "cell_type": "markdown",
   "id": "3f570fdf",
   "metadata": {},
   "source": [
    "## Data Preprocessing\n",
    "We have now succesfully merged our datasets and got one unified one, we can see that our independent feature is the name of the URL, that opens a lot of ways to deal with as an NLP task. \n"
   ]
  },
  {
   "cell_type": "code",
   "execution_count": 20,
   "id": "bc4179de",
   "metadata": {},
   "outputs": [
    {
     "data": {
      "text/html": [
       "<div>\n",
       "<style scoped>\n",
       "    .dataframe tbody tr th:only-of-type {\n",
       "        vertical-align: middle;\n",
       "    }\n",
       "\n",
       "    .dataframe tbody tr th {\n",
       "        vertical-align: top;\n",
       "    }\n",
       "\n",
       "    .dataframe thead th {\n",
       "        text-align: right;\n",
       "    }\n",
       "</style>\n",
       "<table border=\"1\" class=\"dataframe\">\n",
       "  <thead>\n",
       "    <tr style=\"text-align: right;\">\n",
       "      <th></th>\n",
       "      <th>url</th>\n",
       "      <th>label</th>\n",
       "    </tr>\n",
       "  </thead>\n",
       "  <tbody>\n",
       "    <tr>\n",
       "      <th>160635</th>\n",
       "      <td>sportingtimes.net/</td>\n",
       "      <td>good</td>\n",
       "    </tr>\n",
       "    <tr>\n",
       "      <th>238985</th>\n",
       "      <td>education.com/schoolfinder/us/ohio/west-union/...</td>\n",
       "      <td>good</td>\n",
       "    </tr>\n",
       "    <tr>\n",
       "      <th>141298</th>\n",
       "      <td>noizeline.com/</td>\n",
       "      <td>good</td>\n",
       "    </tr>\n",
       "    <tr>\n",
       "      <th>134200</th>\n",
       "      <td>montreal.theoffside.com/team-news/what-to-expe...</td>\n",
       "      <td>good</td>\n",
       "    </tr>\n",
       "    <tr>\n",
       "      <th>489467</th>\n",
       "      <td>walkonwheels.net.au/qmd1uu</td>\n",
       "      <td>bad</td>\n",
       "    </tr>\n",
       "    <tr>\n",
       "      <th>201617</th>\n",
       "      <td>archive.org/stream/alexandredumashi025763mbp/a...</td>\n",
       "      <td>good</td>\n",
       "    </tr>\n",
       "    <tr>\n",
       "      <th>290794</th>\n",
       "      <td>le-flamboyant.com/</td>\n",
       "      <td>good</td>\n",
       "    </tr>\n",
       "    <tr>\n",
       "      <th>323802</th>\n",
       "      <td>nfl-merchandise.blogspot.com/</td>\n",
       "      <td>good</td>\n",
       "    </tr>\n",
       "    <tr>\n",
       "      <th>99914</th>\n",
       "      <td>en.wikipedia.org/wiki/Sony_Ericsson</td>\n",
       "      <td>good</td>\n",
       "    </tr>\n",
       "    <tr>\n",
       "      <th>308032</th>\n",
       "      <td>mhpjnac.org/</td>\n",
       "      <td>good</td>\n",
       "    </tr>\n",
       "    <tr>\n",
       "      <th>48410</th>\n",
       "      <td>david-de-mayo.co.il/xmlrpc/includes/393.html</td>\n",
       "      <td>bad</td>\n",
       "    </tr>\n",
       "    <tr>\n",
       "      <th>51273</th>\n",
       "      <td>exposervices.co.za/mel/</td>\n",
       "      <td>bad</td>\n",
       "    </tr>\n",
       "    <tr>\n",
       "      <th>419185</th>\n",
       "      <td>ghost12.eu/forum/</td>\n",
       "      <td>bad</td>\n",
       "    </tr>\n",
       "    <tr>\n",
       "      <th>177407</th>\n",
       "      <td>whichreligion.com/religion_skeptics.html</td>\n",
       "      <td>good</td>\n",
       "    </tr>\n",
       "    <tr>\n",
       "      <th>124029</th>\n",
       "      <td>katypundit.com/news/newsbusters-charles-krauth...</td>\n",
       "      <td>good</td>\n",
       "    </tr>\n",
       "    <tr>\n",
       "      <th>2394</th>\n",
       "      <td>franny.goadultgame.ru/js/boxun4.exe</td>\n",
       "      <td>bad</td>\n",
       "    </tr>\n",
       "    <tr>\n",
       "      <th>363116</th>\n",
       "      <td>thecanadianencyclopedia.com/index.cfm?PgNm=TCE...</td>\n",
       "      <td>good</td>\n",
       "    </tr>\n",
       "    <tr>\n",
       "      <th>33139</th>\n",
       "      <td>placaslegais.com.br/Big/cache/</td>\n",
       "      <td>bad</td>\n",
       "    </tr>\n",
       "    <tr>\n",
       "      <th>401070</th>\n",
       "      <td>yelp.ca/biz/surete-du-quebec-pabos</td>\n",
       "      <td>good</td>\n",
       "    </tr>\n",
       "    <tr>\n",
       "      <th>136694</th>\n",
       "      <td>music.aol.com/radioguide/bb</td>\n",
       "      <td>good</td>\n",
       "    </tr>\n",
       "  </tbody>\n",
       "</table>\n",
       "</div>"
      ],
      "text/plain": [
       "                                                      url label\n",
       "160635                                 sportingtimes.net/  good\n",
       "238985  education.com/schoolfinder/us/ohio/west-union/...  good\n",
       "141298                                     noizeline.com/  good\n",
       "134200  montreal.theoffside.com/team-news/what-to-expe...  good\n",
       "489467                         walkonwheels.net.au/qmd1uu   bad\n",
       "201617  archive.org/stream/alexandredumashi025763mbp/a...  good\n",
       "290794                                 le-flamboyant.com/  good\n",
       "323802                      nfl-merchandise.blogspot.com/  good\n",
       "99914                 en.wikipedia.org/wiki/Sony_Ericsson  good\n",
       "308032                                       mhpjnac.org/  good\n",
       "48410        david-de-mayo.co.il/xmlrpc/includes/393.html   bad\n",
       "51273                             exposervices.co.za/mel/   bad\n",
       "419185                                  ghost12.eu/forum/   bad\n",
       "177407           whichreligion.com/religion_skeptics.html  good\n",
       "124029  katypundit.com/news/newsbusters-charles-krauth...  good\n",
       "2394                  franny.goadultgame.ru/js/boxun4.exe   bad\n",
       "363116  thecanadianencyclopedia.com/index.cfm?PgNm=TCE...  good\n",
       "33139                      placaslegais.com.br/Big/cache/   bad\n",
       "401070                 yelp.ca/biz/surete-du-quebec-pabos  good\n",
       "136694                        music.aol.com/radioguide/bb  good"
      ]
     },
     "execution_count": 20,
     "metadata": {},
     "output_type": "execute_result"
    }
   ],
   "source": [
    "url_df.sample(20)"
   ]
  },
  {
   "cell_type": "markdown",
   "id": "24ab4e76",
   "metadata": {},
   "source": [
    "#### Taking a quick look at the sample of our dataset we can see there are a lot of redundant things in our URL like '/ ',  ' : ',  ' . ', etc. these symbols are not neccessary for us. Further in the project we will be using TD-IDF Vectorizer to give scores to these URLs based on their lexical features. It will be a good if we will extract these words from the URL and remove all the redundant characters from it.\n"
   ]
  },
  {
   "cell_type": "markdown",
   "id": "fd957155",
   "metadata": {},
   "source": [
    "<ul>\n",
    "<li>To do this operation we used Regexp Tokenizer. What it does is that it splits the string using a regular express that we pass and we get the list of words that we need for our analysis. </li>\n",
    "    <li>According to the documentation: \"A <b>RegexpTokenizer</b> splits a string into substrings using a regular expression.\"\n",
    "    </ul>"
   ]
  },
  {
   "cell_type": "code",
   "execution_count": 21,
   "id": "ef6a5f1b",
   "metadata": {},
   "outputs": [],
   "source": [
    "tknizer = RegexpTokenizer(r'[A-Za-z]+')"
   ]
  },
  {
   "cell_type": "code",
   "execution_count": 22,
   "id": "2f51c475",
   "metadata": {},
   "outputs": [
    {
     "data": {
      "text/plain": [
       "['http',\n",
       " 'localhost',\n",
       " 'notebooks',\n",
       " 'Documents',\n",
       " 'Malicious',\n",
       " 'URL',\n",
       " 'Detection',\n",
       " 'URL',\n",
       " 'Detection',\n",
       " 'using',\n",
       " 'Python',\n",
       " 'ipynb']"
      ]
     },
     "execution_count": 22,
     "metadata": {},
     "output_type": "execute_result"
    }
   ],
   "source": [
    "tknizer.tokenize('http://localhost:8888/notebooks/Documents/Malicious%20URL%20Detection/URL%20Detection%20using%20Python.ipynb')"
   ]
  },
  {
   "cell_type": "markdown",
   "id": "41420ed6",
   "metadata": {},
   "source": [
    "Defining a small function to form a new column in our dataframe that contains the tokenized URLs "
   ]
  },
  {
   "cell_type": "code",
   "execution_count": 122,
   "id": "53be6982",
   "metadata": {},
   "outputs": [
    {
     "name": "stdout",
     "output_type": "stream",
     "text": [
      "Starting the process to tokenize the URLs...\n",
      "Process Finished! and took 2.078125\n"
     ]
    }
   ],
   "source": [
    "def tokenizeUrl(url):\n",
    "    return tknizer.tokenize(url)\n",
    "\n",
    "start = process_time()\n",
    "print('Starting the process to tokenize the URLs...')\n",
    "# Creating a new column in our dataframe that keeps the tokenized form of the URLs\n",
    "url_df['tokenized_url'] = url_df.url.map(tokenizeUrl)\n",
    "end = process_time()\n",
    "print(f'Process Finished! and took {end - start}s')"
   ]
  },
  {
   "cell_type": "code",
   "execution_count": 24,
   "id": "fb6baa2b",
   "metadata": {},
   "outputs": [
    {
     "data": {
      "text/html": [
       "<div>\n",
       "<style scoped>\n",
       "    .dataframe tbody tr th:only-of-type {\n",
       "        vertical-align: middle;\n",
       "    }\n",
       "\n",
       "    .dataframe tbody tr th {\n",
       "        vertical-align: top;\n",
       "    }\n",
       "\n",
       "    .dataframe thead th {\n",
       "        text-align: right;\n",
       "    }\n",
       "</style>\n",
       "<table border=\"1\" class=\"dataframe\">\n",
       "  <thead>\n",
       "    <tr style=\"text-align: right;\">\n",
       "      <th></th>\n",
       "      <th>url</th>\n",
       "      <th>label</th>\n",
       "      <th>tokenized_url</th>\n",
       "    </tr>\n",
       "  </thead>\n",
       "  <tbody>\n",
       "    <tr>\n",
       "      <th>0</th>\n",
       "      <td>diaryofagameaddict.com</td>\n",
       "      <td>bad</td>\n",
       "      <td>[diaryofagameaddict, com]</td>\n",
       "    </tr>\n",
       "    <tr>\n",
       "      <th>1</th>\n",
       "      <td>espdesign.com.au</td>\n",
       "      <td>bad</td>\n",
       "      <td>[espdesign, com, au]</td>\n",
       "    </tr>\n",
       "    <tr>\n",
       "      <th>2</th>\n",
       "      <td>iamagameaddict.com</td>\n",
       "      <td>bad</td>\n",
       "      <td>[iamagameaddict, com]</td>\n",
       "    </tr>\n",
       "    <tr>\n",
       "      <th>3</th>\n",
       "      <td>kalantzis.net</td>\n",
       "      <td>bad</td>\n",
       "      <td>[kalantzis, net]</td>\n",
       "    </tr>\n",
       "    <tr>\n",
       "      <th>4</th>\n",
       "      <td>slightlyoffcenter.net</td>\n",
       "      <td>bad</td>\n",
       "      <td>[slightlyoffcenter, net]</td>\n",
       "    </tr>\n",
       "  </tbody>\n",
       "</table>\n",
       "</div>"
      ],
      "text/plain": [
       "                      url label              tokenized_url\n",
       "0  diaryofagameaddict.com   bad  [diaryofagameaddict, com]\n",
       "1        espdesign.com.au   bad       [espdesign, com, au]\n",
       "2      iamagameaddict.com   bad      [iamagameaddict, com]\n",
       "3           kalantzis.net   bad           [kalantzis, net]\n",
       "4   slightlyoffcenter.net   bad   [slightlyoffcenter, net]"
      ]
     },
     "execution_count": 24,
     "metadata": {},
     "output_type": "execute_result"
    }
   ],
   "source": [
    "url_df.head(5)"
   ]
  },
  {
   "cell_type": "markdown",
   "id": "e83e050e",
   "metadata": {},
   "source": [
    "We only need the words of the URL not the commas that are seperating them in the list so we will define a function that removes the commas and append that as a new column \n",
    "in our Dataframe."
   ]
  },
  {
   "cell_type": "code",
   "execution_count": 25,
   "id": "39df4418",
   "metadata": {},
   "outputs": [],
   "source": [
    "def clean_token(token):\n",
    "    return ' '.join(token);\n",
    "\n",
    "url_df['tokenized_url_cleaned'] = url_df['tokenized_url'].map(clean_token)"
   ]
  },
  {
   "cell_type": "code",
   "execution_count": 26,
   "id": "68fa2c71",
   "metadata": {},
   "outputs": [
    {
     "data": {
      "text/html": [
       "<div>\n",
       "<style scoped>\n",
       "    .dataframe tbody tr th:only-of-type {\n",
       "        vertical-align: middle;\n",
       "    }\n",
       "\n",
       "    .dataframe tbody tr th {\n",
       "        vertical-align: top;\n",
       "    }\n",
       "\n",
       "    .dataframe thead th {\n",
       "        text-align: right;\n",
       "    }\n",
       "</style>\n",
       "<table border=\"1\" class=\"dataframe\">\n",
       "  <thead>\n",
       "    <tr style=\"text-align: right;\">\n",
       "      <th></th>\n",
       "      <th>url</th>\n",
       "      <th>label</th>\n",
       "      <th>tokenized_url</th>\n",
       "      <th>tokenized_url_cleaned</th>\n",
       "    </tr>\n",
       "  </thead>\n",
       "  <tbody>\n",
       "    <tr>\n",
       "      <th>381689</th>\n",
       "      <td>webmii.com/Result.aspx?f=Kevin&amp;l=O'Leary&amp;r=intl</td>\n",
       "      <td>good</td>\n",
       "      <td>[webmii, com, Result, aspx, f, Kevin, l, O, Le...</td>\n",
       "      <td>webmii com Result aspx f Kevin l O Leary r intl</td>\n",
       "    </tr>\n",
       "    <tr>\n",
       "      <th>302841</th>\n",
       "      <td>manta.com/c/mt1vd0y/louis-e-archambault-attorney</td>\n",
       "      <td>good</td>\n",
       "      <td>[manta, com, c, mt, vd, y, louis, e, archambau...</td>\n",
       "      <td>manta com c mt vd y louis e archambault attorney</td>\n",
       "    </tr>\n",
       "    <tr>\n",
       "      <th>110234</th>\n",
       "      <td>freepages.genealogy.rootsweb.ancestry.com/~sna...</td>\n",
       "      <td>good</td>\n",
       "      <td>[freepages, genealogy, rootsweb, ancestry, com...</td>\n",
       "      <td>freepages genealogy rootsweb ancestry com snay...</td>\n",
       "    </tr>\n",
       "    <tr>\n",
       "      <th>476135</th>\n",
       "      <td>ronnyrobreb.ru/sliva/gate.php</td>\n",
       "      <td>bad</td>\n",
       "      <td>[ronnyrobreb, ru, sliva, gate, php]</td>\n",
       "      <td>ronnyrobreb ru sliva gate php</td>\n",
       "    </tr>\n",
       "    <tr>\n",
       "      <th>202142</th>\n",
       "      <td>archive.org/stream/stjohnbaptistder00unknuoft/...</td>\n",
       "      <td>good</td>\n",
       "      <td>[archive, org, stream, stjohnbaptistder, unknu...</td>\n",
       "      <td>archive org stream stjohnbaptistder unknuoft s...</td>\n",
       "    </tr>\n",
       "    <tr>\n",
       "      <th>94446</th>\n",
       "      <td>en.wikipedia.org/wiki/Gray_Line_Worldwide</td>\n",
       "      <td>good</td>\n",
       "      <td>[en, wikipedia, org, wiki, Gray, Line, Worldwide]</td>\n",
       "      <td>en wikipedia org wiki Gray Line Worldwide</td>\n",
       "    </tr>\n",
       "    <tr>\n",
       "      <th>307736</th>\n",
       "      <td>metrolyrics.com/more-than-a-woman-lyrics-bee-g...</td>\n",
       "      <td>good</td>\n",
       "      <td>[metrolyrics, com, more, than, a, woman, lyric...</td>\n",
       "      <td>metrolyrics com more than a woman lyrics bee g...</td>\n",
       "    </tr>\n",
       "    <tr>\n",
       "      <th>311475</th>\n",
       "      <td>motorcycle.ohio.gov/</td>\n",
       "      <td>good</td>\n",
       "      <td>[motorcycle, ohio, gov]</td>\n",
       "      <td>motorcycle ohio gov</td>\n",
       "    </tr>\n",
       "    <tr>\n",
       "      <th>253877</th>\n",
       "      <td>fanbase.com/Real-Salt-Lake-2006</td>\n",
       "      <td>good</td>\n",
       "      <td>[fanbase, com, Real, Salt, Lake]</td>\n",
       "      <td>fanbase com Real Salt Lake</td>\n",
       "    </tr>\n",
       "    <tr>\n",
       "      <th>237025</th>\n",
       "      <td>e-laws.gov.on.ca/html/repealedstatutes/english...</td>\n",
       "      <td>good</td>\n",
       "      <td>[e, laws, gov, on, ca, html, repealedstatutes,...</td>\n",
       "      <td>e laws gov on ca html repealedstatutes english...</td>\n",
       "    </tr>\n",
       "  </tbody>\n",
       "</table>\n",
       "</div>"
      ],
      "text/plain": [
       "                                                      url label  \\\n",
       "381689    webmii.com/Result.aspx?f=Kevin&l=O'Leary&r=intl  good   \n",
       "302841   manta.com/c/mt1vd0y/louis-e-archambault-attorney  good   \n",
       "110234  freepages.genealogy.rootsweb.ancestry.com/~sna...  good   \n",
       "476135                      ronnyrobreb.ru/sliva/gate.php   bad   \n",
       "202142  archive.org/stream/stjohnbaptistder00unknuoft/...  good   \n",
       "94446           en.wikipedia.org/wiki/Gray_Line_Worldwide  good   \n",
       "307736  metrolyrics.com/more-than-a-woman-lyrics-bee-g...  good   \n",
       "311475                               motorcycle.ohio.gov/  good   \n",
       "253877                    fanbase.com/Real-Salt-Lake-2006  good   \n",
       "237025  e-laws.gov.on.ca/html/repealedstatutes/english...  good   \n",
       "\n",
       "                                            tokenized_url  \\\n",
       "381689  [webmii, com, Result, aspx, f, Kevin, l, O, Le...   \n",
       "302841  [manta, com, c, mt, vd, y, louis, e, archambau...   \n",
       "110234  [freepages, genealogy, rootsweb, ancestry, com...   \n",
       "476135                [ronnyrobreb, ru, sliva, gate, php]   \n",
       "202142  [archive, org, stream, stjohnbaptistder, unknu...   \n",
       "94446   [en, wikipedia, org, wiki, Gray, Line, Worldwide]   \n",
       "307736  [metrolyrics, com, more, than, a, woman, lyric...   \n",
       "311475                            [motorcycle, ohio, gov]   \n",
       "253877                   [fanbase, com, Real, Salt, Lake]   \n",
       "237025  [e, laws, gov, on, ca, html, repealedstatutes,...   \n",
       "\n",
       "                                    tokenized_url_cleaned  \n",
       "381689    webmii com Result aspx f Kevin l O Leary r intl  \n",
       "302841   manta com c mt vd y louis e archambault attorney  \n",
       "110234  freepages genealogy rootsweb ancestry com snay...  \n",
       "476135                      ronnyrobreb ru sliva gate php  \n",
       "202142  archive org stream stjohnbaptistder unknuoft s...  \n",
       "94446           en wikipedia org wiki Gray Line Worldwide  \n",
       "307736  metrolyrics com more than a woman lyrics bee g...  \n",
       "311475                                motorcycle ohio gov  \n",
       "253877                         fanbase com Real Salt Lake  \n",
       "237025  e laws gov on ca html repealedstatutes english...  "
      ]
     },
     "execution_count": 26,
     "metadata": {},
     "output_type": "execute_result"
    }
   ],
   "source": [
    "url_df.sample(10)"
   ]
  },
  {
   "cell_type": "markdown",
   "id": "474d9251",
   "metadata": {},
   "source": [
    "## TF-IDF Vectorizer\n",
    "We are using TF-IDF algorithm to transform our tokenized_urls into numerical representation that we further use in our Machine learning algorithm to make predictions. \n",
    "\n",
    "<br>\n",
    "\n",
    "<b> What does TF-IDF vectorizer do? </b>\n",
    "\n",
    "\n",
    "<br>\n",
    "What it does is that it first calculates the term frequency i.e.\n",
    "    \n",
    "<br><b>Term Frequency</b>:  (Number of repetions of particular word in sentence)/(Number of words in sentence)\n",
    "\n",
    "<br>\n",
    "Then it calculates the Inverse document frequency i.e.\n",
    "\n",
    "<br><b>IDF:</b> log((No. of sentences)/(No. of sentences containing that word))\n",
    "\n",
    "<br> In the final step it multiplies TF and IDF and assigns that value to the word\n",
    "    "
   ]
  },
  {
   "cell_type": "code",
   "execution_count": 123,
   "id": "fee651eb",
   "metadata": {},
   "outputs": [
    {
     "name": "stdout",
     "output_type": "stream",
     "text": [
      "Vectorizing URLs...\n",
      "Task Complete! and took 3.859375s\n"
     ]
    }
   ],
   "source": [
    "vectorizer = TfidfVectorizer();\n",
    "\n",
    "start = process_time()\n",
    "print('Vectorizing URLs...')\n",
    "url_names = vectorizer.fit_transform(url_df.tokenized_url_cleaned)\n",
    "end = process_time()\n",
    "print(f'Task Complete! and took {end - start}s')"
   ]
  },
  {
   "cell_type": "code",
   "execution_count": 64,
   "id": "163bf2ba",
   "metadata": {},
   "outputs": [
    {
     "name": "stdout",
     "output_type": "stream",
     "text": [
      "  (0, 48482)\t0.10231646400215898\n",
      "  (0, 61600)\t0.9947518993166562\n",
      "  (1, 16155)\t0.3970381667481138\n",
      "  (1, 75380)\t0.9129853818363055\n",
      "  (1, 48482)\t0.0939062654912466\n",
      "  (2, 109906)\t0.9947518993166562\n",
      "  (2, 48482)\t0.10231646400215898\n",
      "  (3, 165381)\t0.29658225402341704\n",
      "  (3, 125965)\t0.9550073123271828\n",
      "  (4, 218397)\t0.9550073123271828\n",
      "  (4, 165381)\t0.29658225402341704\n",
      "  (5, 238797)\t0.9947518993166562\n",
      "  (5, 48482)\t0.10231646400215898\n",
      "  (6, 242805)\t0.9947518993166562\n",
      "  (6, 48482)\t0.10231646400215898\n",
      "  (7, 105243)\t0.5915670018960184\n",
      "  (7, 115934)\t0.8062558416952749\n",
      "  (8, 77053)\t0.23067532167102833\n",
      "  (8, 178595)\t0.38456164754167865\n",
      "  (8, 184400)\t0.14294829723710767\n",
      "  (8, 114677)\t0.37816326658622984\n",
      "  (8, 239385)\t0.4837278428336617\n",
      "  (8, 247952)\t0.23973868667278836\n",
      "  (8, 52247)\t0.5865085672978185\n",
      "  (9, 132488)\t0.8207845864082407\n",
      "  :\t:\n",
      "  (494363, 48482)\t0.057179754700464214\n",
      "  (494366, 12112)\t0.5588124872358071\n",
      "  (494366, 42428)\t0.7897982498440805\n",
      "  (494366, 176397)\t0.2528780904953177\n",
      "  (494367, 12112)\t0.5588124872358071\n",
      "  (494367, 42428)\t0.7897982498440805\n",
      "  (494367, 176397)\t0.2528780904953177\n",
      "  (494368, 110478)\t0.8460959801597256\n",
      "  (494368, 12112)\t0.4856216261883842\n",
      "  (494368, 176397)\t0.21975720360366469\n",
      "  (494369, 110478)\t0.8460959801597256\n",
      "  (494369, 12112)\t0.4856216261883842\n",
      "  (494369, 176397)\t0.21975720360366469\n",
      "  (494370, 247589)\t0.8460959801597256\n",
      "  (494370, 12112)\t0.4856216261883842\n",
      "  (494370, 176397)\t0.21975720360366469\n",
      "  (494371, 247589)\t0.8460959801597256\n",
      "  (494371, 12112)\t0.4856216261883842\n",
      "  (494371, 176397)\t0.21975720360366469\n",
      "  (494372, 211750)\t0.5402870144112026\n",
      "  (494372, 12112)\t0.6958782250644681\n",
      "  (494372, 113825)\t0.47312095487280487\n",
      "  (494373, 211750)\t0.5402870144112026\n",
      "  (494373, 12112)\t0.6958782250644681\n",
      "  (494373, 113825)\t0.47312095487280487\n"
     ]
    }
   ],
   "source": [
    "print(url_names)"
   ]
  },
  {
   "cell_type": "code",
   "execution_count": 77,
   "id": "42ab9da2",
   "metadata": {},
   "outputs": [],
   "source": [
    "# from imblearn.under_sampling import RandomUnderSampler\n"
   ]
  },
  {
   "cell_type": "code",
   "execution_count": 87,
   "id": "d3bfdc7b",
   "metadata": {},
   "outputs": [],
   "source": [
    "# rs = RandomUnderSampler()\n",
    "# good_urls = url_df[url_df['label'] == 'good']\n",
    "# bad_urls = url_df[url_df['label'] == 'bad']\n",
    "# X_res, y_res = rs.fit_resample(url_df, url_df.label);"
   ]
  },
  {
   "cell_type": "markdown",
   "id": "a238c442",
   "metadata": {},
   "source": [
    "### Splitting the data for training and testing"
   ]
  },
  {
   "cell_type": "code",
   "execution_count": null,
   "id": "89a3f118",
   "metadata": {},
   "outputs": [],
   "source": [
    "trainX, testX, trainY, testY = train_test_split(url_names, url_df.label)"
   ]
  },
  {
   "cell_type": "markdown",
   "id": "31400db4",
   "metadata": {},
   "source": [
    "## Logistic Regression\n",
    "The first classification algorithm we used is <b>Logistic Regression</b>\n",
    "<br>\n",
    "We will be using two algorithms on this data and will deploy our model with the better performing one."
   ]
  },
  {
   "cell_type": "code",
   "execution_count": 138,
   "id": "ab7f17f8",
   "metadata": {},
   "outputs": [],
   "source": [
    "# An array to store the scores of both models\n",
    "model_scores = []"
   ]
  },
  {
   "cell_type": "code",
   "execution_count": 125,
   "id": "fd5c2ce4",
   "metadata": {},
   "outputs": [],
   "source": [
    "logreg = LogisticRegression(max_iter=600)"
   ]
  },
  {
   "cell_type": "code",
   "execution_count": 126,
   "id": "98d4e02f",
   "metadata": {},
   "outputs": [
    {
     "name": "stdout",
     "output_type": "stream",
     "text": [
      "******************************\n",
      "Applying Logistic Regression...\n",
      "Model is trained. It took 9.15625 seconds to train the model\n",
      "******************************\n"
     ]
    }
   ],
   "source": [
    "print('********************************************************')\n",
    "print('Applying Logistic Regression...')\n",
    "start = process_time()\n",
    "logreg.fit(trainX, trainY)\n",
    "end = process_time()\n",
    "print(f'Model is trained. It took {end - start} seconds to train the model!')\n",
    "print('********************************************************')"
   ]
  },
  {
   "cell_type": "code",
   "execution_count": 140,
   "id": "e9a52325",
   "metadata": {},
   "outputs": [
    {
     "name": "stdout",
     "output_type": "stream",
     "text": [
      "The model has a 97.81% Training accuracy\n",
      "The model has a 96.93% Testing accuracy\n"
     ]
    }
   ],
   "source": [
    "print(f'The model has a {logreg.score(trainX, trainY) * 100:.2f}% Training accuracy')\n",
    "print(f'The model has a {logreg.score(testX, testY) * 100:.2f}% Testing accuracy')\n",
    "# Appending the logistic regression model score to our list\n",
    "model_scores.append(logreg.score(testX, testY))"
   ]
  },
  {
   "cell_type": "markdown",
   "id": "6d9a1290",
   "metadata": {},
   "source": [
    "### Confusion Matrix for Logistic Regression\n",
    "Using the confusion matrix we can visualise that how accurate our model is"
   ]
  },
  {
   "cell_type": "code",
   "execution_count": 137,
   "id": "5ef26bbd",
   "metadata": {
    "scrolled": false
   },
   "outputs": [
    {
     "name": "stdout",
     "output_type": "stream",
     "text": [
      "Classification Matrix for the model is: \n",
      "\n"
     ]
    },
    {
     "data": {
      "image/png": "[encoded data removed]",
      "text/plain": [
       "<Figure size 576x432 with 2 Axes>"
      ]
     },
     "metadata": {
      "needs_background": "light"
     },
     "output_type": "display_data"
    }
   ],
   "source": [
    "conf_mat = pd.DataFrame(confusion_matrix(logreg.predict(testX), testY), columns = ['Prediction: Bad', 'Prediction: Good'], index = ['Actual: Bad', 'Actual: Good'])\n",
    "print('Classification Matrix for the model is: \\n')\n",
    "figure(figsize = (8, 6))\n",
    "sns.heatmap(conf_mat, annot = True, fmt = 'd')\n",
    "plt.show();"
   ]
  },
  {
   "cell_type": "markdown",
   "id": "6e78af22",
   "metadata": {},
   "source": [
    "# Idhar karna aur isko delete kardena "
   ]
  },
  {
   "cell_type": "code",
   "execution_count": null,
   "id": "21377501",
   "metadata": {},
   "outputs": [],
   "source": []
  },
  {
   "cell_type": "code",
   "execution_count": null,
   "id": "9d0080bc",
   "metadata": {},
   "outputs": [],
   "source": []
  },
  {
   "cell_type": "code",
   "execution_count": null,
   "id": "f9692443",
   "metadata": {},
   "outputs": [],
   "source": []
  },
  {
   "cell_type": "code",
   "execution_count": null,
   "id": "a2f69577",
   "metadata": {},
   "outputs": [],
   "source": []
  },
  {
   "cell_type": "code",
   "execution_count": null,
   "id": "a26f97bb",
   "metadata": {},
   "outputs": [],
   "source": []
  },
  {
   "cell_type": "markdown",
   "id": "a4de50c8",
   "metadata": {},
   "source": [
    "### We can see that Logistic Regression performs better than Random Forest Classfier on our dataset so we will dump our model as pickel file"
   ]
  },
  {
   "cell_type": "code",
   "execution_count": 141,
   "id": "ae786032",
   "metadata": {},
   "outputs": [],
   "source": [
    "pipeline_logreg = make_pipeline(TfidfVectorizer(tokenizer = RegexpTokenizer(r'[A-Za-z]+').tokenize), LogisticRegression(max_iter=600))"
   ]
  },
  {
   "cell_type": "code",
   "execution_count": 142,
   "id": "c78ed9c3",
   "metadata": {},
   "outputs": [],
   "source": [
    "trainX, testX, trainY, testY = train_test_split(url_df.url, url_df.label)"
   ]
  },
  {
   "cell_type": "code",
   "execution_count": 143,
   "id": "32b58db2",
   "metadata": {},
   "outputs": [
    {
     "name": "stdout",
     "output_type": "stream",
     "text": [
      "*******************************************\n",
      "Training...\n",
      "Process Finished\n",
      "*******************************************\n"
     ]
    }
   ],
   "source": [
    "print('*******************************************')\n",
    "print('Training...')\n",
    "pipeline_logreg.fit(trainX,trainY)\n",
    "print('Process Finished')\n",
    "print('*******************************************')"
   ]
  },
  {
   "cell_type": "code",
   "execution_count": 144,
   "id": "b825d9fc",
   "metadata": {},
   "outputs": [
    {
     "name": "stdout",
     "output_type": "stream",
     "text": [
      "The accuracy is: 0.9698529054808486\n"
     ]
    }
   ],
   "source": [
    "print(f'The accuracy is: {pipeline_logreg.score(testX, testY)}')"
   ]
  },
  {
   "cell_type": "code",
   "execution_count": 145,
   "id": "89b78f9a",
   "metadata": {},
   "outputs": [],
   "source": [
    "pickle.dump(pipeline_logreg,open('logreg.pkl','wb'))"
   ]
  },
  {
   "cell_type": "code",
   "execution_count": 146,
   "id": "5ad62507",
   "metadata": {},
   "outputs": [
    {
     "name": "stdout",
     "output_type": "stream",
     "text": [
      "0.9698529054808486\n"
     ]
    }
   ],
   "source": [
    "loaded_logreg = pickle.load(open('logreg.pkl', 'rb'))\n",
    "res = loaded_logreg.score(testX, testY)\n",
    "print(res)"
   ]
  },
  {
   "cell_type": "code",
   "execution_count": 147,
   "id": "82d808fc",
   "metadata": {},
   "outputs": [
    {
     "name": "stdout",
     "output_type": "stream",
     "text": [
      "['good']\n"
     ]
    }
   ],
   "source": [
    "url = ['stackoverflow.com/questions/']\n",
    "res = loaded_logreg.predict(url)\n",
    "print(res)"
   ]
  }
 ],
 "metadata": {
  "kernelspec": {
   "display_name": "Python 3 (ipykernel)",
   "language": "python",
   "name": "python3"
  },
  "language_info": {
   "codemirror_mode": {
    "name": "ipython",
    "version": 3
   },
   "file_extension": ".py",
   "mimetype": "text/x-python",
   "name": "python",
   "nbconvert_exporter": "python",
   "pygments_lexer": "ipython3",
   "version": "3.9.7"
  }
 },
 "nbformat": 4,
 "nbformat_minor": 5
}
