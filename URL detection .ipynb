{
 "cells": [
  {
   "cell_type": "markdown",
   "id": "efe4500b",
   "metadata": {},
   "source": [
    "# Malicious URL Detection using Machine Learning"
   ]
  },
  {
   "cell_type": "markdown",
   "id": "37dcb8e2",
   "metadata": {},
   "source": [
    "#### Importing the neccessary packages"
   ]
  },
  {
   "cell_type": "code",
   "execution_count": 1,
   "id": "8a6a4249",
   "metadata": {},
   "outputs": [],
   "source": [
    "import pandas as pd\n",
    "import numpy as np\n",
    "import random\n",
    "import matplotlib.pyplot as plt\n",
    "from matplotlib.pyplot import figure\n",
    "import seaborn as sns\n",
    "\n",
    "from sklearn.metrics import f1_score,accuracy_score\n",
    "from sklearn.preprocessing import LabelEncoder\n",
    "from sklearn.model_selection import cross_val_score\n",
    "from sklearn.tree import DecisionTreeClassifier\n",
    "from sklearn.ensemble import RandomForestClassifier\n",
    "from time import process_time\n",
    "from nltk.tokenize import RegexpTokenizer\n",
    "from sklearn.feature_extraction.text import CountVectorizer\n",
    "from sklearn.feature_extraction.text import TfidfVectorizer\n",
    "from sklearn.linear_model import LogisticRegression\n",
    "from sklearn.model_selection import train_test_split\n",
    "from sklearn.pipeline import make_pipeline\n",
    "from sklearn.metrics import confusion_matrix\n",
    "import pickle"
   ]
  },
  {
   "cell_type": "code",
   "execution_count": 2,
   "id": "af1cb1f2",
   "metadata": {},
   "outputs": [],
   "source": [
    "# Importing the datasets\n",
    "url_df_1 = pd.read_csv('urldata.csv')\n",
    "url_df_2 = pd.read_csv('phishing_site_urls.csv')"
   ]
  },
  {
   "cell_type": "markdown",
   "id": "ea9005be",
   "metadata": {},
   "source": [
    "## Exploratory Data Analysis"
   ]
  },
  {
   "cell_type": "code",
   "execution_count": 3,
   "id": "cc43374f",
   "metadata": {},
   "outputs": [
    {
     "data": {
      "text/html": [
       "<div>\n",
       "<style scoped>\n",
       "    .dataframe tbody tr th:only-of-type {\n",
       "        vertical-align: middle;\n",
       "    }\n",
       "\n",
       "    .dataframe tbody tr th {\n",
       "        vertical-align: top;\n",
       "    }\n",
       "\n",
       "    .dataframe thead th {\n",
       "        text-align: right;\n",
       "    }\n",
       "</style>\n",
       "<table border=\"1\" class=\"dataframe\">\n",
       "  <thead>\n",
       "    <tr style=\"text-align: right;\">\n",
       "      <th></th>\n",
       "      <th>url</th>\n",
       "      <th>label</th>\n",
       "    </tr>\n",
       "  </thead>\n",
       "  <tbody>\n",
       "    <tr>\n",
       "      <th>0</th>\n",
       "      <td>diaryofagameaddict.com</td>\n",
       "      <td>bad</td>\n",
       "    </tr>\n",
       "    <tr>\n",
       "      <th>1</th>\n",
       "      <td>espdesign.com.au</td>\n",
       "      <td>bad</td>\n",
       "    </tr>\n",
       "    <tr>\n",
       "      <th>2</th>\n",
       "      <td>iamagameaddict.com</td>\n",
       "      <td>bad</td>\n",
       "    </tr>\n",
       "    <tr>\n",
       "      <th>3</th>\n",
       "      <td>kalantzis.net</td>\n",
       "      <td>bad</td>\n",
       "    </tr>\n",
       "    <tr>\n",
       "      <th>4</th>\n",
       "      <td>slightlyoffcenter.net</td>\n",
       "      <td>bad</td>\n",
       "    </tr>\n",
       "    <tr>\n",
       "      <th>5</th>\n",
       "      <td>toddscarwash.com</td>\n",
       "      <td>bad</td>\n",
       "    </tr>\n",
       "    <tr>\n",
       "      <th>6</th>\n",
       "      <td>tubemoviez.com</td>\n",
       "      <td>bad</td>\n",
       "    </tr>\n",
       "    <tr>\n",
       "      <th>7</th>\n",
       "      <td>ipl.hk</td>\n",
       "      <td>bad</td>\n",
       "    </tr>\n",
       "    <tr>\n",
       "      <th>8</th>\n",
       "      <td>crackspider.us/toolbar/install.php?pack=exe</td>\n",
       "      <td>bad</td>\n",
       "    </tr>\n",
       "    <tr>\n",
       "      <th>9</th>\n",
       "      <td>pos-kupang.com/</td>\n",
       "      <td>bad</td>\n",
       "    </tr>\n",
       "  </tbody>\n",
       "</table>\n",
       "</div>"
      ],
      "text/plain": [
       "                                           url label\n",
       "0                       diaryofagameaddict.com   bad\n",
       "1                             espdesign.com.au   bad\n",
       "2                           iamagameaddict.com   bad\n",
       "3                                kalantzis.net   bad\n",
       "4                        slightlyoffcenter.net   bad\n",
       "5                             toddscarwash.com   bad\n",
       "6                               tubemoviez.com   bad\n",
       "7                                       ipl.hk   bad\n",
       "8  crackspider.us/toolbar/install.php?pack=exe   bad\n",
       "9                              pos-kupang.com/   bad"
      ]
     },
     "execution_count": 3,
     "metadata": {},
     "output_type": "execute_result"
    }
   ],
   "source": [
    "url_df_1.head(10)"
   ]
  },
  {
   "cell_type": "code",
   "execution_count": 4,
   "id": "772acf0f",
   "metadata": {},
   "outputs": [
    {
     "data": {
      "text/html": [
       "<div>\n",
       "<style scoped>\n",
       "    .dataframe tbody tr th:only-of-type {\n",
       "        vertical-align: middle;\n",
       "    }\n",
       "\n",
       "    .dataframe tbody tr th {\n",
       "        vertical-align: top;\n",
       "    }\n",
       "\n",
       "    .dataframe thead th {\n",
       "        text-align: right;\n",
       "    }\n",
       "</style>\n",
       "<table border=\"1\" class=\"dataframe\">\n",
       "  <thead>\n",
       "    <tr style=\"text-align: right;\">\n",
       "      <th></th>\n",
       "      <th>URL</th>\n",
       "      <th>Label</th>\n",
       "    </tr>\n",
       "  </thead>\n",
       "  <tbody>\n",
       "    <tr>\n",
       "      <th>0</th>\n",
       "      <td>nobell.it/70ffb52d079109dca5664cce6f317373782/...</td>\n",
       "      <td>bad</td>\n",
       "    </tr>\n",
       "    <tr>\n",
       "      <th>1</th>\n",
       "      <td>www.dghjdgf.com/paypal.co.uk/cycgi-bin/webscrc...</td>\n",
       "      <td>bad</td>\n",
       "    </tr>\n",
       "    <tr>\n",
       "      <th>2</th>\n",
       "      <td>serviciosbys.com/paypal.cgi.bin.get-into.herf....</td>\n",
       "      <td>bad</td>\n",
       "    </tr>\n",
       "    <tr>\n",
       "      <th>3</th>\n",
       "      <td>mail.printakid.com/www.online.americanexpress....</td>\n",
       "      <td>bad</td>\n",
       "    </tr>\n",
       "    <tr>\n",
       "      <th>4</th>\n",
       "      <td>thewhiskeydregs.com/wp-content/themes/widescre...</td>\n",
       "      <td>bad</td>\n",
       "    </tr>\n",
       "    <tr>\n",
       "      <th>5</th>\n",
       "      <td>smilesvoegol.servebbs.org/voegol.php</td>\n",
       "      <td>bad</td>\n",
       "    </tr>\n",
       "    <tr>\n",
       "      <th>6</th>\n",
       "      <td>premierpaymentprocessing.com/includes/boleto-2...</td>\n",
       "      <td>bad</td>\n",
       "    </tr>\n",
       "    <tr>\n",
       "      <th>7</th>\n",
       "      <td>myxxxcollection.com/v1/js/jih321/bpd.com.do/do...</td>\n",
       "      <td>bad</td>\n",
       "    </tr>\n",
       "    <tr>\n",
       "      <th>8</th>\n",
       "      <td>super1000.info/docs</td>\n",
       "      <td>bad</td>\n",
       "    </tr>\n",
       "    <tr>\n",
       "      <th>9</th>\n",
       "      <td>horizonsgallery.com/js/bin/ssl1/_id/www.paypal...</td>\n",
       "      <td>bad</td>\n",
       "    </tr>\n",
       "  </tbody>\n",
       "</table>\n",
       "</div>"
      ],
      "text/plain": [
       "                                                 URL Label\n",
       "0  nobell.it/70ffb52d079109dca5664cce6f317373782/...   bad\n",
       "1  www.dghjdgf.com/paypal.co.uk/cycgi-bin/webscrc...   bad\n",
       "2  serviciosbys.com/paypal.cgi.bin.get-into.herf....   bad\n",
       "3  mail.printakid.com/www.online.americanexpress....   bad\n",
       "4  thewhiskeydregs.com/wp-content/themes/widescre...   bad\n",
       "5               smilesvoegol.servebbs.org/voegol.php   bad\n",
       "6  premierpaymentprocessing.com/includes/boleto-2...   bad\n",
       "7  myxxxcollection.com/v1/js/jih321/bpd.com.do/do...   bad\n",
       "8                                super1000.info/docs   bad\n",
       "9  horizonsgallery.com/js/bin/ssl1/_id/www.paypal...   bad"
      ]
     },
     "execution_count": 4,
     "metadata": {},
     "output_type": "execute_result"
    }
   ],
   "source": [
    "url_df_2.head(10)"
   ]
  },
  {
   "cell_type": "code",
   "execution_count": 5,
   "id": "2814796e",
   "metadata": {},
   "outputs": [
    {
     "name": "stdout",
     "output_type": "stream",
     "text": [
      "False\n",
      "False\n"
     ]
    }
   ],
   "source": [
    "# Checking for null values in the datasets\n",
    "print(url_df_1.isnull().values.any())\n",
    "print(url_df_2.isnull().values.any())\n",
    "\n",
    "\n",
    "#In case of null value we will fill the null values with mean: \n",
    "def dataImputation(data,key):\n",
    "    data = data.fillna(data[key].mean())\n",
    "    return data;"
   ]
  },
  {
   "cell_type": "markdown",
   "id": "070ccd9b",
   "metadata": {},
   "source": [
    "#### As we can see there aren't any null values in both the datasets, now we shall see the total number of entries in each dataset."
   ]
  },
  {
   "cell_type": "code",
   "execution_count": 6,
   "id": "9c404006",
   "metadata": {
    "scrolled": true
   },
   "outputs": [
    {
     "name": "stdout",
     "output_type": "stream",
     "text": [
      "(420464, 2)\n",
      "(549346, 2)\n",
      "969810\n"
     ]
    }
   ],
   "source": [
    "# Total Entries in both datasets\n",
    "print(url_df_1.shape)\n",
    "print(url_df_2.shape)\n",
    "print(url_df_1['label'].count() + url_df_2['Label'].count())"
   ]
  },
  {
   "cell_type": "markdown",
   "id": "9a326858",
   "metadata": {},
   "source": [
    "### Merging the two datasets"
   ]
  },
  {
   "cell_type": "code",
   "execution_count": 7,
   "id": "43aae5b0",
   "metadata": {},
   "outputs": [],
   "source": [
    "# Renaming the columns in the second dataset so that they match with the first one\n",
    "url_df_2 = url_df_2.rename(columns={'URL': 'url', 'Label': 'label'})\n",
    "# url_df = pd.merge(url_df_1, url_df_2)\n",
    "url_df = pd.concat([url_df_1,url_df_2]).drop_duplicates().reset_index(drop=True)"
   ]
  },
  {
   "cell_type": "code",
   "execution_count": 8,
   "id": "114f9ee8",
   "metadata": {},
   "outputs": [
    {
     "data": {
      "text/plain": [
       "(507196, 2)"
      ]
     },
     "execution_count": 8,
     "metadata": {},
     "output_type": "execute_result"
    }
   ],
   "source": [
    "url_df.shape"
   ]
  },
  {
   "cell_type": "markdown",
   "id": "21bda709",
   "metadata": {},
   "source": [
    "#### url_df is our main dataset and as we can see that there we many common values between the columns i.e. about 50% so now we are left with a total of about 5 lakh URLs to train our model with"
   ]
  },
  {
   "cell_type": "code",
   "execution_count": 10,
   "id": "78b025ea",
   "metadata": {},
   "outputs": [
    {
     "data": {
      "text/html": [
       "<div>\n",
       "<style scoped>\n",
       "    .dataframe tbody tr th:only-of-type {\n",
       "        vertical-align: middle;\n",
       "    }\n",
       "\n",
       "    .dataframe tbody tr th {\n",
       "        vertical-align: top;\n",
       "    }\n",
       "\n",
       "    .dataframe thead th {\n",
       "        text-align: right;\n",
       "    }\n",
       "</style>\n",
       "<table border=\"1\" class=\"dataframe\">\n",
       "  <thead>\n",
       "    <tr style=\"text-align: right;\">\n",
       "      <th></th>\n",
       "      <th>url</th>\n",
       "      <th>label</th>\n",
       "    </tr>\n",
       "  </thead>\n",
       "  <tbody>\n",
       "    <tr>\n",
       "      <th>count</th>\n",
       "      <td>507196</td>\n",
       "      <td>507196</td>\n",
       "    </tr>\n",
       "    <tr>\n",
       "      <th>unique</th>\n",
       "      <td>507195</td>\n",
       "      <td>2</td>\n",
       "    </tr>\n",
       "    <tr>\n",
       "      <th>top</th>\n",
       "      <td>tommyhumphreys.com/</td>\n",
       "      <td>good</td>\n",
       "    </tr>\n",
       "    <tr>\n",
       "      <th>freq</th>\n",
       "      <td>2</td>\n",
       "      <td>392897</td>\n",
       "    </tr>\n",
       "  </tbody>\n",
       "</table>\n",
       "</div>"
      ],
      "text/plain": [
       "                        url   label\n",
       "count                507196  507196\n",
       "unique               507195       2\n",
       "top     tommyhumphreys.com/    good\n",
       "freq                      2  392897"
      ]
     },
     "execution_count": 10,
     "metadata": {},
     "output_type": "execute_result"
    }
   ],
   "source": [
    "url_df.describe()"
   ]
  },
  {
   "cell_type": "code",
   "execution_count": 12,
   "id": "06a342d5",
   "metadata": {},
   "outputs": [
    {
     "name": "stdout",
     "output_type": "stream",
     "text": [
      "<class 'pandas.core.frame.DataFrame'>\n",
      "RangeIndex: 507196 entries, 0 to 507195\n",
      "Data columns (total 2 columns):\n",
      " #   Column  Non-Null Count   Dtype \n",
      "---  ------  --------------   ----- \n",
      " 0   url     507196 non-null  object\n",
      " 1   label   507196 non-null  object\n",
      "dtypes: object(2)\n",
      "memory usage: 3.9+ MB\n"
     ]
    }
   ],
   "source": [
    "url_df.info()"
   ]
  },
  {
   "cell_type": "code",
   "execution_count": 11,
   "id": "87f8e4df",
   "metadata": {},
   "outputs": [
    {
     "name": "stdout",
     "output_type": "stream",
     "text": [
      "The number of good URLs in the dataset is: 392897\n",
      "The number of bad URLs in the dataset is: 114299\n"
     ]
    },
    {
     "data": {
      "image/png": "[encoded data removed]",
      "text/plain": [
       "<Figure size 576x432 with 1 Axes>"
      ]
     },
     "metadata": {
      "needs_background": "light"
     },
     "output_type": "display_data"
    }
   ],
   "source": [
    "# Visualising our data\n",
    "\n",
    "figure(figsize=(8, 6))\n",
    "print(f\"The number of good URLs in the dataset is: {url_df['label'].where(url_df['label'] == 'good').count()}\")\n",
    "print(f\"The number of bad URLs in the dataset is: {url_df['label'].where(url_df['label'] == 'bad').count()}\")\n",
    "plot = sns.barplot(x = ['Good', 'Bad'], y = url_df['label'].value_counts())\n",
    "plot.set(xlabel='Type', ylabel='Count')\n",
    "plt.show();"
   ]
  },
  {
   "cell_type": "markdown",
   "id": "baf940c0",
   "metadata": {},
   "source": [
    "We can see that the number of Good URLs is far more than Bad URLs in our dataset and that makes our data <b>imbalanced</b> we can try resampling to solve this particular issue."
   ]
  },
  {
   "cell_type": "code",
   "execution_count": 12,
   "id": "3de08e4c",
   "metadata": {},
   "outputs": [],
   "source": [
    "good_urls = url_df[url_df['label'] == 'good']\n",
    "bad_urls = url_df[url_df['label'] == 'bad']"
   ]
  },
  {
   "cell_type": "code",
   "execution_count": 13,
   "id": "6a99b295",
   "metadata": {},
   "outputs": [
    {
     "data": {
      "text/html": [
       "<div>\n",
       "<style scoped>\n",
       "    .dataframe tbody tr th:only-of-type {\n",
       "        vertical-align: middle;\n",
       "    }\n",
       "\n",
       "    .dataframe tbody tr th {\n",
       "        vertical-align: top;\n",
       "    }\n",
       "\n",
       "    .dataframe thead th {\n",
       "        text-align: right;\n",
       "    }\n",
       "</style>\n",
       "<table border=\"1\" class=\"dataframe\">\n",
       "  <thead>\n",
       "    <tr style=\"text-align: right;\">\n",
       "      <th></th>\n",
       "      <th>url</th>\n",
       "      <th>label</th>\n",
       "    </tr>\n",
       "  </thead>\n",
       "  <tbody>\n",
       "    <tr>\n",
       "      <th>37044</th>\n",
       "      <td>01453.com/</td>\n",
       "      <td>good</td>\n",
       "    </tr>\n",
       "    <tr>\n",
       "      <th>37045</th>\n",
       "      <td>015fb31.netsolhost.com/bosstweed.html</td>\n",
       "      <td>good</td>\n",
       "    </tr>\n",
       "    <tr>\n",
       "      <th>37046</th>\n",
       "      <td>02bee66.netsolhost.com/lincolnhomepage/</td>\n",
       "      <td>good</td>\n",
       "    </tr>\n",
       "    <tr>\n",
       "      <th>37047</th>\n",
       "      <td>02ec0a3.netsolhost.com/getperson.php?personID=...</td>\n",
       "      <td>good</td>\n",
       "    </tr>\n",
       "    <tr>\n",
       "      <th>37048</th>\n",
       "      <td>032255.com/</td>\n",
       "      <td>good</td>\n",
       "    </tr>\n",
       "    <tr>\n",
       "      <th>37049</th>\n",
       "      <td>05minute.com/</td>\n",
       "      <td>good</td>\n",
       "    </tr>\n",
       "    <tr>\n",
       "      <th>37050</th>\n",
       "      <td>07090.blogspot.com/2011/07/westfield-police-of...</td>\n",
       "      <td>good</td>\n",
       "    </tr>\n",
       "    <tr>\n",
       "      <th>37051</th>\n",
       "      <td>08nrc.blogspot.com/</td>\n",
       "      <td>good</td>\n",
       "    </tr>\n",
       "    <tr>\n",
       "      <th>37052</th>\n",
       "      <td>0creditcard.biz/</td>\n",
       "      <td>good</td>\n",
       "    </tr>\n",
       "    <tr>\n",
       "      <th>37053</th>\n",
       "      <td>0dayreggaedancehall.blogspot.com/</td>\n",
       "      <td>good</td>\n",
       "    </tr>\n",
       "  </tbody>\n",
       "</table>\n",
       "</div>"
      ],
      "text/plain": [
       "                                                     url label\n",
       "37044                                         01453.com/  good\n",
       "37045              015fb31.netsolhost.com/bosstweed.html  good\n",
       "37046            02bee66.netsolhost.com/lincolnhomepage/  good\n",
       "37047  02ec0a3.netsolhost.com/getperson.php?personID=...  good\n",
       "37048                                        032255.com/  good\n",
       "37049                                      05minute.com/  good\n",
       "37050  07090.blogspot.com/2011/07/westfield-police-of...  good\n",
       "37051                                08nrc.blogspot.com/  good\n",
       "37052                                   0creditcard.biz/  good\n",
       "37053                  0dayreggaedancehall.blogspot.com/  good"
      ]
     },
     "execution_count": 13,
     "metadata": {},
     "output_type": "execute_result"
    }
   ],
   "source": [
    "good_urls.head(10)"
   ]
  },
  {
   "cell_type": "code",
   "execution_count": 14,
   "id": "79176d5c",
   "metadata": {},
   "outputs": [
    {
     "data": {
      "text/html": [
       "<div>\n",
       "<style scoped>\n",
       "    .dataframe tbody tr th:only-of-type {\n",
       "        vertical-align: middle;\n",
       "    }\n",
       "\n",
       "    .dataframe tbody tr th {\n",
       "        vertical-align: top;\n",
       "    }\n",
       "\n",
       "    .dataframe thead th {\n",
       "        text-align: right;\n",
       "    }\n",
       "</style>\n",
       "<table border=\"1\" class=\"dataframe\">\n",
       "  <thead>\n",
       "    <tr style=\"text-align: right;\">\n",
       "      <th></th>\n",
       "      <th>url</th>\n",
       "      <th>label</th>\n",
       "    </tr>\n",
       "  </thead>\n",
       "  <tbody>\n",
       "    <tr>\n",
       "      <th>0</th>\n",
       "      <td>diaryofagameaddict.com</td>\n",
       "      <td>bad</td>\n",
       "    </tr>\n",
       "    <tr>\n",
       "      <th>1</th>\n",
       "      <td>espdesign.com.au</td>\n",
       "      <td>bad</td>\n",
       "    </tr>\n",
       "    <tr>\n",
       "      <th>2</th>\n",
       "      <td>iamagameaddict.com</td>\n",
       "      <td>bad</td>\n",
       "    </tr>\n",
       "    <tr>\n",
       "      <th>3</th>\n",
       "      <td>kalantzis.net</td>\n",
       "      <td>bad</td>\n",
       "    </tr>\n",
       "    <tr>\n",
       "      <th>4</th>\n",
       "      <td>slightlyoffcenter.net</td>\n",
       "      <td>bad</td>\n",
       "    </tr>\n",
       "    <tr>\n",
       "      <th>5</th>\n",
       "      <td>toddscarwash.com</td>\n",
       "      <td>bad</td>\n",
       "    </tr>\n",
       "    <tr>\n",
       "      <th>6</th>\n",
       "      <td>tubemoviez.com</td>\n",
       "      <td>bad</td>\n",
       "    </tr>\n",
       "    <tr>\n",
       "      <th>7</th>\n",
       "      <td>ipl.hk</td>\n",
       "      <td>bad</td>\n",
       "    </tr>\n",
       "    <tr>\n",
       "      <th>8</th>\n",
       "      <td>crackspider.us/toolbar/install.php?pack=exe</td>\n",
       "      <td>bad</td>\n",
       "    </tr>\n",
       "    <tr>\n",
       "      <th>9</th>\n",
       "      <td>pos-kupang.com/</td>\n",
       "      <td>bad</td>\n",
       "    </tr>\n",
       "  </tbody>\n",
       "</table>\n",
       "</div>"
      ],
      "text/plain": [
       "                                           url label\n",
       "0                       diaryofagameaddict.com   bad\n",
       "1                             espdesign.com.au   bad\n",
       "2                           iamagameaddict.com   bad\n",
       "3                                kalantzis.net   bad\n",
       "4                        slightlyoffcenter.net   bad\n",
       "5                             toddscarwash.com   bad\n",
       "6                               tubemoviez.com   bad\n",
       "7                                       ipl.hk   bad\n",
       "8  crackspider.us/toolbar/install.php?pack=exe   bad\n",
       "9                              pos-kupang.com/   bad"
      ]
     },
     "execution_count": 14,
     "metadata": {},
     "output_type": "execute_result"
    }
   ],
   "source": [
    "bad_urls.head(10)"
   ]
  },
  {
   "cell_type": "markdown",
   "id": "3f570fdf",
   "metadata": {},
   "source": [
    "## Data Preprocessing\n",
    "We have now succesfully merged our datasets and got one unified one, we can see that our independent feature is the name of the URL, that opens a lot of ways to deal with as an NLP task. \n"
   ]
  },
  {
   "cell_type": "code",
   "execution_count": 15,
   "id": "bc4179de",
   "metadata": {},
   "outputs": [
    {
     "data": {
      "text/html": [
       "<div>\n",
       "<style scoped>\n",
       "    .dataframe tbody tr th:only-of-type {\n",
       "        vertical-align: middle;\n",
       "    }\n",
       "\n",
       "    .dataframe tbody tr th {\n",
       "        vertical-align: top;\n",
       "    }\n",
       "\n",
       "    .dataframe thead th {\n",
       "        text-align: right;\n",
       "    }\n",
       "</style>\n",
       "<table border=\"1\" class=\"dataframe\">\n",
       "  <thead>\n",
       "    <tr style=\"text-align: right;\">\n",
       "      <th></th>\n",
       "      <th>url</th>\n",
       "      <th>label</th>\n",
       "    </tr>\n",
       "  </thead>\n",
       "  <tbody>\n",
       "    <tr>\n",
       "      <th>438299</th>\n",
       "      <td>pastehtml.com/view/bbvepdyhi.html</td>\n",
       "      <td>bad</td>\n",
       "    </tr>\n",
       "    <tr>\n",
       "      <th>14396</th>\n",
       "      <td>panmc.lt/wp-content/</td>\n",
       "      <td>bad</td>\n",
       "    </tr>\n",
       "    <tr>\n",
       "      <th>194708</th>\n",
       "      <td>buddytv.com/articles/the-real-world/profile/fr...</td>\n",
       "      <td>good</td>\n",
       "    </tr>\n",
       "    <tr>\n",
       "      <th>466322</th>\n",
       "      <td>www.artselect.com/partners/</td>\n",
       "      <td>good</td>\n",
       "    </tr>\n",
       "    <tr>\n",
       "      <th>330342</th>\n",
       "      <td>slate.com/articles/arts/movies/2010/09/gekko_n...</td>\n",
       "      <td>good</td>\n",
       "    </tr>\n",
       "    <tr>\n",
       "      <th>27344</th>\n",
       "      <td>shineritethru.com/R-viewdoc/Re-viewdoc/index.htm</td>\n",
       "      <td>bad</td>\n",
       "    </tr>\n",
       "    <tr>\n",
       "      <th>193074</th>\n",
       "      <td>bpp.agh.edu.pl/bpp-show.phtml?doR=0&amp;fsA=jacek&amp;...</td>\n",
       "      <td>good</td>\n",
       "    </tr>\n",
       "    <tr>\n",
       "      <th>375177</th>\n",
       "      <td>youtube.com/watch?v=k_OoZK-cQHc</td>\n",
       "      <td>good</td>\n",
       "    </tr>\n",
       "    <tr>\n",
       "      <th>362760</th>\n",
       "      <td>wikidomo.com/community/sainte-emelie-de-lenerg...</td>\n",
       "      <td>good</td>\n",
       "    </tr>\n",
       "    <tr>\n",
       "      <th>361770</th>\n",
       "      <td>who2.com/bio/dan-aykroyd</td>\n",
       "      <td>good</td>\n",
       "    </tr>\n",
       "    <tr>\n",
       "      <th>201021</th>\n",
       "      <td>chacha.com/question/what-was-the-score-of-the-...</td>\n",
       "      <td>good</td>\n",
       "    </tr>\n",
       "    <tr>\n",
       "      <th>294171</th>\n",
       "      <td>mylife.com/c-2284970612</td>\n",
       "      <td>good</td>\n",
       "    </tr>\n",
       "    <tr>\n",
       "      <th>447616</th>\n",
       "      <td>ns0.allnorins0.allnorilsk.ru/images/dk/fileadm...</td>\n",
       "      <td>bad</td>\n",
       "    </tr>\n",
       "    <tr>\n",
       "      <th>439316</th>\n",
       "      <td>bussiness.08342.kingdream.kz/</td>\n",
       "      <td>bad</td>\n",
       "    </tr>\n",
       "    <tr>\n",
       "      <th>214837</th>\n",
       "      <td>donsworld.com/Michele_Scarabelli.html</td>\n",
       "      <td>good</td>\n",
       "    </tr>\n",
       "    <tr>\n",
       "      <th>346819</th>\n",
       "      <td>topcomedysecrets.com/</td>\n",
       "      <td>good</td>\n",
       "    </tr>\n",
       "    <tr>\n",
       "      <th>44758</th>\n",
       "      <td>au.answers.yahoo.com/question/index?qid=200806...</td>\n",
       "      <td>good</td>\n",
       "    </tr>\n",
       "    <tr>\n",
       "      <th>33564</th>\n",
       "      <td>http://s70.n57.n84.n66.static.myhostcenter.com...</td>\n",
       "      <td>bad</td>\n",
       "    </tr>\n",
       "    <tr>\n",
       "      <th>53631</th>\n",
       "      <td>ca.ratemyteachers.com/ecole-secondaire-theriau...</td>\n",
       "      <td>good</td>\n",
       "    </tr>\n",
       "    <tr>\n",
       "      <th>264259</th>\n",
       "      <td>joebowmanautoplaza.com/NewVehicleSearch</td>\n",
       "      <td>good</td>\n",
       "    </tr>\n",
       "  </tbody>\n",
       "</table>\n",
       "</div>"
      ],
      "text/plain": [
       "                                                      url label\n",
       "438299                  pastehtml.com/view/bbvepdyhi.html   bad\n",
       "14396                                panmc.lt/wp-content/   bad\n",
       "194708  buddytv.com/articles/the-real-world/profile/fr...  good\n",
       "466322                        www.artselect.com/partners/  good\n",
       "330342  slate.com/articles/arts/movies/2010/09/gekko_n...  good\n",
       "27344    shineritethru.com/R-viewdoc/Re-viewdoc/index.htm   bad\n",
       "193074  bpp.agh.edu.pl/bpp-show.phtml?doR=0&fsA=jacek&...  good\n",
       "375177                    youtube.com/watch?v=k_OoZK-cQHc  good\n",
       "362760  wikidomo.com/community/sainte-emelie-de-lenerg...  good\n",
       "361770                           who2.com/bio/dan-aykroyd  good\n",
       "201021  chacha.com/question/what-was-the-score-of-the-...  good\n",
       "294171                            mylife.com/c-2284970612  good\n",
       "447616  ns0.allnorins0.allnorilsk.ru/images/dk/fileadm...   bad\n",
       "439316                      bussiness.08342.kingdream.kz/   bad\n",
       "214837              donsworld.com/Michele_Scarabelli.html  good\n",
       "346819                              topcomedysecrets.com/  good\n",
       "44758   au.answers.yahoo.com/question/index?qid=200806...  good\n",
       "33564   http://s70.n57.n84.n66.static.myhostcenter.com...   bad\n",
       "53631   ca.ratemyteachers.com/ecole-secondaire-theriau...  good\n",
       "264259            joebowmanautoplaza.com/NewVehicleSearch  good"
      ]
     },
     "execution_count": 15,
     "metadata": {},
     "output_type": "execute_result"
    }
   ],
   "source": [
    "url_df.sample(20)"
   ]
  },
  {
   "cell_type": "markdown",
   "id": "24ab4e76",
   "metadata": {},
   "source": [
    "#### Taking a quick look at the sample of our dataset we can see there are a lot of redundant things in our URL like '/ ',  ' : ',  ' . ', etc. these symbols are not neccessary for us. Further in the project we will be using TD-IDF Vectorizer to give scores to these URLs based on their lexical features. It will be a good if we will extract these words from the URL and remove all the redundant characters from it.\n"
   ]
  },
  {
   "cell_type": "markdown",
   "id": "fd957155",
   "metadata": {},
   "source": [
    "<ul>\n",
    "<li>To do this operation we used Regexp Tokenizer. What it does is that it splits the string using a regular express that we pass and we get the list of words that we need for our analysis. </li>\n",
    "    <li>According to the documentation: \"A <b>RegexpTokenizer</b> splits a string into substrings using a regular expression.\"\n",
    "    </ul>"
   ]
  },
  {
   "cell_type": "code",
   "execution_count": 16,
   "id": "ef6a5f1b",
   "metadata": {},
   "outputs": [],
   "source": [
    "tknizer = RegexpTokenizer(r'[A-Za-z]+')"
   ]
  },
  {
   "cell_type": "code",
   "execution_count": 17,
   "id": "2f51c475",
   "metadata": {},
   "outputs": [
    {
     "data": {
      "text/plain": [
       "['http',\n",
       " 'localhost',\n",
       " 'notebooks',\n",
       " 'Documents',\n",
       " 'Malicious',\n",
       " 'URL',\n",
       " 'Detection',\n",
       " 'URL',\n",
       " 'Detection',\n",
       " 'using',\n",
       " 'Python',\n",
       " 'ipynb']"
      ]
     },
     "execution_count": 17,
     "metadata": {},
     "output_type": "execute_result"
    }
   ],
   "source": [
    "#Testing on a random URL\n",
    "tknizer.tokenize('http://localhost:8888/notebooks/Documents/Malicious%20URL%20Detection/URL%20Detection%20using%20Python.ipynb')"
   ]
  },
  {
   "cell_type": "markdown",
   "id": "41420ed6",
   "metadata": {},
   "source": [
    "Defining a small function to form a new column in our dataframe that contains the tokenized URLs "
   ]
  },
  {
   "cell_type": "code",
   "execution_count": 18,
   "id": "53be6982",
   "metadata": {},
   "outputs": [
    {
     "name": "stdout",
     "output_type": "stream",
     "text": [
      "Starting the process to tokenize the URLs...\n",
      "Process Finished! and took 6.078125s\n"
     ]
    }
   ],
   "source": [
    "def tokenizeUrl(url):\n",
    "    return tknizer.tokenize(url)\n",
    "\n",
    "start = process_time()\n",
    "print('Starting the process to tokenize the URLs...')\n",
    "\n",
    "# Creating a new column in our dataframe that keeps the tokenized form of the URLs\n",
    "url_df['tokenized_url'] = url_df.url.map(tokenizeUrl)\n",
    "end = process_time()\n",
    "print(f'Process Finished! and took {end - start}s')"
   ]
  },
  {
   "cell_type": "code",
   "execution_count": 19,
   "id": "fb6baa2b",
   "metadata": {},
   "outputs": [
    {
     "data": {
      "text/html": [
       "<div>\n",
       "<style scoped>\n",
       "    .dataframe tbody tr th:only-of-type {\n",
       "        vertical-align: middle;\n",
       "    }\n",
       "\n",
       "    .dataframe tbody tr th {\n",
       "        vertical-align: top;\n",
       "    }\n",
       "\n",
       "    .dataframe thead th {\n",
       "        text-align: right;\n",
       "    }\n",
       "</style>\n",
       "<table border=\"1\" class=\"dataframe\">\n",
       "  <thead>\n",
       "    <tr style=\"text-align: right;\">\n",
       "      <th></th>\n",
       "      <th>url</th>\n",
       "      <th>label</th>\n",
       "      <th>tokenized_url</th>\n",
       "    </tr>\n",
       "  </thead>\n",
       "  <tbody>\n",
       "    <tr>\n",
       "      <th>0</th>\n",
       "      <td>diaryofagameaddict.com</td>\n",
       "      <td>bad</td>\n",
       "      <td>[diaryofagameaddict, com]</td>\n",
       "    </tr>\n",
       "    <tr>\n",
       "      <th>1</th>\n",
       "      <td>espdesign.com.au</td>\n",
       "      <td>bad</td>\n",
       "      <td>[espdesign, com, au]</td>\n",
       "    </tr>\n",
       "    <tr>\n",
       "      <th>2</th>\n",
       "      <td>iamagameaddict.com</td>\n",
       "      <td>bad</td>\n",
       "      <td>[iamagameaddict, com]</td>\n",
       "    </tr>\n",
       "    <tr>\n",
       "      <th>3</th>\n",
       "      <td>kalantzis.net</td>\n",
       "      <td>bad</td>\n",
       "      <td>[kalantzis, net]</td>\n",
       "    </tr>\n",
       "    <tr>\n",
       "      <th>4</th>\n",
       "      <td>slightlyoffcenter.net</td>\n",
       "      <td>bad</td>\n",
       "      <td>[slightlyoffcenter, net]</td>\n",
       "    </tr>\n",
       "  </tbody>\n",
       "</table>\n",
       "</div>"
      ],
      "text/plain": [
       "                      url label              tokenized_url\n",
       "0  diaryofagameaddict.com   bad  [diaryofagameaddict, com]\n",
       "1        espdesign.com.au   bad       [espdesign, com, au]\n",
       "2      iamagameaddict.com   bad      [iamagameaddict, com]\n",
       "3           kalantzis.net   bad           [kalantzis, net]\n",
       "4   slightlyoffcenter.net   bad   [slightlyoffcenter, net]"
      ]
     },
     "execution_count": 19,
     "metadata": {},
     "output_type": "execute_result"
    }
   ],
   "source": [
    "url_df.head(5)"
   ]
  },
  {
   "cell_type": "markdown",
   "id": "e83e050e",
   "metadata": {},
   "source": [
    "We only need the words of the URL not the commas that are seperating them in the list so we will define a function that removes the commas and append that as a new column \n",
    "in our Dataframe."
   ]
  },
  {
   "cell_type": "code",
   "execution_count": 20,
   "id": "39df4418",
   "metadata": {},
   "outputs": [],
   "source": [
    "def clean_token(token):\n",
    "    return ' '.join(token);\n",
    "\n",
    "url_df['tokenized_url_cleaned'] = url_df['tokenized_url'].map(clean_token)"
   ]
  },
  {
   "cell_type": "code",
   "execution_count": 21,
   "id": "68fa2c71",
   "metadata": {},
   "outputs": [
    {
     "data": {
      "text/html": [
       "<div>\n",
       "<style scoped>\n",
       "    .dataframe tbody tr th:only-of-type {\n",
       "        vertical-align: middle;\n",
       "    }\n",
       "\n",
       "    .dataframe tbody tr th {\n",
       "        vertical-align: top;\n",
       "    }\n",
       "\n",
       "    .dataframe thead th {\n",
       "        text-align: right;\n",
       "    }\n",
       "</style>\n",
       "<table border=\"1\" class=\"dataframe\">\n",
       "  <thead>\n",
       "    <tr style=\"text-align: right;\">\n",
       "      <th></th>\n",
       "      <th>url</th>\n",
       "      <th>label</th>\n",
       "      <th>tokenized_url</th>\n",
       "      <th>tokenized_url_cleaned</th>\n",
       "    </tr>\n",
       "  </thead>\n",
       "  <tbody>\n",
       "    <tr>\n",
       "      <th>26014</th>\n",
       "      <td>impress-studio.com.pl/Yoolim/View1/docx/index.php</td>\n",
       "      <td>bad</td>\n",
       "      <td>[impress, studio, com, pl, Yoolim, View, docx,...</td>\n",
       "      <td>impress studio com pl Yoolim View docx index php</td>\n",
       "    </tr>\n",
       "    <tr>\n",
       "      <th>114159</th>\n",
       "      <td>movies.nytimes.com/movie/458204/Another-Year/o...</td>\n",
       "      <td>good</td>\n",
       "      <td>[movies, nytimes, com, movie, Another, Year, o...</td>\n",
       "      <td>movies nytimes com movie Another Year overview</td>\n",
       "    </tr>\n",
       "    <tr>\n",
       "      <th>90472</th>\n",
       "      <td>genealogybooklinks.com/New%20England.htm</td>\n",
       "      <td>good</td>\n",
       "      <td>[genealogybooklinks, com, New, England, htm]</td>\n",
       "      <td>genealogybooklinks com New England htm</td>\n",
       "    </tr>\n",
       "    <tr>\n",
       "      <th>148651</th>\n",
       "      <td>tv.ign.com/articles/109/1093319p1.html</td>\n",
       "      <td>good</td>\n",
       "      <td>[tv, ign, com, articles, p, html]</td>\n",
       "      <td>tv ign com articles p html</td>\n",
       "    </tr>\n",
       "    <tr>\n",
       "      <th>505721</th>\n",
       "      <td>www.sjgames.com/pyramid/sample.html?id=65</td>\n",
       "      <td>good</td>\n",
       "      <td>[www, sjgames, com, pyramid, sample, html, id]</td>\n",
       "      <td>www sjgames com pyramid sample html id</td>\n",
       "    </tr>\n",
       "    <tr>\n",
       "      <th>64657</th>\n",
       "      <td>doublebassblog.org/2010/08/for-sale-french-dou...</td>\n",
       "      <td>good</td>\n",
       "      <td>[doublebassblog, org, for, sale, french, doubl...</td>\n",
       "      <td>doublebassblog org for sale french double bass...</td>\n",
       "    </tr>\n",
       "    <tr>\n",
       "      <th>33665</th>\n",
       "      <td>hgmedical.ro/sneensn/sneensn/sneensn/products/...</td>\n",
       "      <td>bad</td>\n",
       "      <td>[hgmedical, ro, sneensn, sneensn, sneensn, pro...</td>\n",
       "      <td>hgmedical ro sneensn sneensn sneensn products ...</td>\n",
       "    </tr>\n",
       "    <tr>\n",
       "      <th>110416</th>\n",
       "      <td>mediaarkansas.com/</td>\n",
       "      <td>good</td>\n",
       "      <td>[mediaarkansas, com]</td>\n",
       "      <td>mediaarkansas com</td>\n",
       "    </tr>\n",
       "    <tr>\n",
       "      <th>293789</th>\n",
       "      <td>mylife.com/c-1386012939</td>\n",
       "      <td>good</td>\n",
       "      <td>[mylife, com, c]</td>\n",
       "      <td>mylife com c</td>\n",
       "    </tr>\n",
       "    <tr>\n",
       "      <th>322012</th>\n",
       "      <td>roadhockey.net/</td>\n",
       "      <td>good</td>\n",
       "      <td>[roadhockey, net]</td>\n",
       "      <td>roadhockey net</td>\n",
       "    </tr>\n",
       "  </tbody>\n",
       "</table>\n",
       "</div>"
      ],
      "text/plain": [
       "                                                      url label  \\\n",
       "26014   impress-studio.com.pl/Yoolim/View1/docx/index.php   bad   \n",
       "114159  movies.nytimes.com/movie/458204/Another-Year/o...  good   \n",
       "90472            genealogybooklinks.com/New%20England.htm  good   \n",
       "148651             tv.ign.com/articles/109/1093319p1.html  good   \n",
       "505721          www.sjgames.com/pyramid/sample.html?id=65  good   \n",
       "64657   doublebassblog.org/2010/08/for-sale-french-dou...  good   \n",
       "33665   hgmedical.ro/sneensn/sneensn/sneensn/products/...   bad   \n",
       "110416                                 mediaarkansas.com/  good   \n",
       "293789                            mylife.com/c-1386012939  good   \n",
       "322012                                    roadhockey.net/  good   \n",
       "\n",
       "                                            tokenized_url  \\\n",
       "26014   [impress, studio, com, pl, Yoolim, View, docx,...   \n",
       "114159  [movies, nytimes, com, movie, Another, Year, o...   \n",
       "90472        [genealogybooklinks, com, New, England, htm]   \n",
       "148651                  [tv, ign, com, articles, p, html]   \n",
       "505721     [www, sjgames, com, pyramid, sample, html, id]   \n",
       "64657   [doublebassblog, org, for, sale, french, doubl...   \n",
       "33665   [hgmedical, ro, sneensn, sneensn, sneensn, pro...   \n",
       "110416                               [mediaarkansas, com]   \n",
       "293789                                   [mylife, com, c]   \n",
       "322012                                  [roadhockey, net]   \n",
       "\n",
       "                                    tokenized_url_cleaned  \n",
       "26014    impress studio com pl Yoolim View docx index php  \n",
       "114159     movies nytimes com movie Another Year overview  \n",
       "90472              genealogybooklinks com New England htm  \n",
       "148651                         tv ign com articles p html  \n",
       "505721             www sjgames com pyramid sample html id  \n",
       "64657   doublebassblog org for sale french double bass...  \n",
       "33665   hgmedical ro sneensn sneensn sneensn products ...  \n",
       "110416                                  mediaarkansas com  \n",
       "293789                                       mylife com c  \n",
       "322012                                     roadhockey net  "
      ]
     },
     "execution_count": 21,
     "metadata": {},
     "output_type": "execute_result"
    }
   ],
   "source": [
    "url_df.sample(10)"
   ]
  },
  {
   "cell_type": "markdown",
   "id": "474d9251",
   "metadata": {},
   "source": [
    "## TF-IDF Vectorizer\n",
    "We are using TF-IDF algorithm to transform our tokenized_urls into numerical representation that we further use in our Machine learning algorithm to make predictions. \n",
    "\n",
    "<br>\n",
    "\n",
    "<b> What does TF-IDF vectorizer do? </b>\n",
    "\n",
    "\n",
    "<br>\n",
    "What it does is that it first calculates the term frequency i.e.\n",
    "    \n",
    "<br><b>Term Frequency</b>:  (Number of repetions of particular word in sentence)/(Number of words in sentence)\n",
    "\n",
    "<br>\n",
    "Then it calculates the Inverse document frequency i.e.\n",
    "\n",
    "<br><b>IDF:</b> log((No. of sentences)/(No. of sentences containing that word))\n",
    "\n",
    "<br> In the final step it multiplies TF and IDF and assigns that value to the word\n",
    "    "
   ]
  },
  {
   "cell_type": "code",
   "execution_count": 22,
   "id": "fee651eb",
   "metadata": {},
   "outputs": [
    {
     "name": "stdout",
     "output_type": "stream",
     "text": [
      "Vectorizing URLs...\n",
      "Task Complete! and took 19.15625s\n"
     ]
    }
   ],
   "source": [
    "vectorizer = TfidfVectorizer();\n",
    "\n",
    "start = process_time()\n",
    "print('Vectorizing URLs...')\n",
    "url_names = vectorizer.fit_transform(url_df.tokenized_url_cleaned)\n",
    "end = process_time()\n",
    "print(f'Task Complete! and took {end - start}s')"
   ]
  },
  {
   "cell_type": "code",
   "execution_count": 23,
   "id": "163bf2ba",
   "metadata": {},
   "outputs": [
    {
     "name": "stdout",
     "output_type": "stream",
     "text": [
      "  (0, 63362)\t0.09925976967366437\n",
      "  (0, 81754)\t0.9950615549423719\n",
      "  (1, 21257)\t0.39068631545264604\n",
      "  (1, 101040)\t0.9159779175937653\n",
      "  (1, 63362)\t0.09137098772928215\n",
      "  (2, 147412)\t0.9950615549423719\n",
      "  (2, 63362)\t0.09925976967366437\n",
      "  (3, 221298)\t0.27999285563756116\n",
      "  (3, 169685)\t0.9600020837435322\n",
      "  (4, 293180)\t0.9600020837435322\n",
      "  (4, 221298)\t0.27999285563756116\n",
      "  (5, 319915)\t0.9950615549423719\n",
      "  (5, 63362)\t0.09925976967366437\n",
      "  (6, 325043)\t0.9950615549423719\n",
      "  (6, 63362)\t0.09925976967366437\n",
      "  (7, 140983)\t0.5975473729777666\n",
      "  (7, 155814)\t0.8018336093276273\n",
      "  (8, 103330)\t0.28465188358605403\n",
      "  (8, 239645)\t0.41432623009823216\n",
      "  (8, 247315)\t0.14797417961754455\n",
      "  (8, 154091)\t0.38221233277047206\n",
      "  (8, 320623)\t0.4520191287255826\n",
      "  (8, 332413)\t0.20421635782589487\n",
      "  (8, 68799)\t0.5773203976395241\n",
      "  (9, 178525)\t0.8187156470103117\n",
      "  :\t:\n",
      "  (507192, 310518)\t0.5270416063179973\n",
      "  (507192, 355657)\t0.45338490645434215\n",
      "  (507192, 77348)\t0.4265290098509416\n",
      "  (507192, 297196)\t0.4450140459815721\n",
      "  (507192, 121351)\t0.36311678704146905\n",
      "  (507192, 63362)\t0.06964892972974909\n",
      "  (507193, 121396)\t0.4468371028620451\n",
      "  (507193, 77410)\t0.6645984489304857\n",
      "  (507193, 355657)\t0.44497483947455885\n",
      "  (507193, 354709)\t0.16812936079066976\n",
      "  (507193, 3676)\t0.3573552003883663\n",
      "  (507193, 63362)\t0.06835697634586113\n",
      "  (507194, 349223)\t0.25339364419660365\n",
      "  (507194, 77348)\t0.47829310052089286\n",
      "  (507194, 297196)\t0.4990215036071208\n",
      "  (507194, 349272)\t0.26873315306379597\n",
      "  (507194, 121166)\t0.3986948903957493\n",
      "  (507194, 337989)\t0.3698323041677767\n",
      "  (507194, 97993)\t0.22855400613943244\n",
      "  (507194, 236615)\t0.19446572937370207\n",
      "  (507195, 80464)\t0.6937715357432572\n",
      "  (507195, 129341)\t0.6013052124543441\n",
      "  (507195, 13859)\t0.35121248611097233\n",
      "  (507195, 354709)\t0.17021605113435254\n",
      "  (507195, 63362)\t0.06920536976027408\n"
     ]
    }
   ],
   "source": [
    "print(url_names)"
   ]
  },
  {
   "cell_type": "markdown",
   "id": "a238c442",
   "metadata": {},
   "source": [
    "### Splitting the data for training and testing"
   ]
  },
  {
   "cell_type": "code",
   "execution_count": 24,
   "id": "89a3f118",
   "metadata": {},
   "outputs": [
    {
     "name": "stdout",
     "output_type": "stream",
     "text": [
      "(380397, 369586)\n",
      "(380397,)\n",
      "(126799, 369586)\n",
      "(126799,)\n"
     ]
    }
   ],
   "source": [
    "trainX, testX, trainY, testY = train_test_split(url_names, url_df.label)\n",
    "print(trainX.shape)\n",
    "print(trainY.shape)\n",
    "print(testX.shape)\n",
    "print(testY.shape)"
   ]
  },
  {
   "cell_type": "markdown",
   "id": "fbcf9efe",
   "metadata": {},
   "source": [
    "# MODELLING"
   ]
  },
  {
   "cell_type": "code",
   "execution_count": 25,
   "id": "a8ed68d0",
   "metadata": {},
   "outputs": [],
   "source": [
    "# An array to store the scores of both models\n",
    "model_scores = []"
   ]
  },
  {
   "cell_type": "markdown",
   "id": "31400db4",
   "metadata": {},
   "source": [
    "## 1. Logistic Regression\n",
    "The first classification algorithm we used is <b>Logistic Regression</b>\n",
    "<br>\n",
    "We will be using two algorithms on this data and will deploy our model with the better performing one."
   ]
  },
  {
   "cell_type": "code",
   "execution_count": 26,
   "id": "fd5c2ce4",
   "metadata": {},
   "outputs": [],
   "source": [
    "logreg = LogisticRegression(max_iter=600)"
   ]
  },
  {
   "cell_type": "code",
   "execution_count": 27,
   "id": "98d4e02f",
   "metadata": {},
   "outputs": [
    {
     "name": "stdout",
     "output_type": "stream",
     "text": [
      "********************************************************\n",
      "Applying Logistic Regression...\n",
      "Model is trained. It took 58.84375 seconds to train the model!\n",
      "********************************************************\n"
     ]
    }
   ],
   "source": [
    "print('********************************************************')\n",
    "print('Applying Logistic Regression...')\n",
    "start = process_time()\n",
    "logreg.fit(trainX, trainY)\n",
    "end = process_time()\n",
    "print(f'Model is trained. It took {end - start} seconds to train the model!')\n",
    "print('********************************************************')"
   ]
  },
  {
   "cell_type": "code",
   "execution_count": 28,
   "id": "e9a52325",
   "metadata": {},
   "outputs": [
    {
     "name": "stdout",
     "output_type": "stream",
     "text": [
      "The model has a 96.79% Training accuracy\n",
      "The model has a 95.80% Testing accuracy\n"
     ]
    }
   ],
   "source": [
    "print(f'The model has a {logreg.score(trainX, trainY) * 100:.2f}% Training accuracy')\n",
    "print(f'The model has a {logreg.score(testX, testY) * 100:.2f}% Testing accuracy')\n",
    "# Appending the logistic regression model score to our list\n",
    "model_scores.append(logreg.score(testX, testY))"
   ]
  },
  {
   "cell_type": "markdown",
   "id": "6d9a1290",
   "metadata": {},
   "source": [
    "### Confusion Matrix for Logistic Regression\n",
    "Using the confusion matrix we can visualise that how accurate our model is"
   ]
  },
  {
   "cell_type": "code",
   "execution_count": 29,
   "id": "5ef26bbd",
   "metadata": {
    "scrolled": false
   },
   "outputs": [
    {
     "name": "stdout",
     "output_type": "stream",
     "text": [
      "Classification Matrix for the model is: \n",
      "\n"
     ]
    },
    {
     "data": {
      "image/png": "[encoded data removed]",
      "text/plain": [
       "<Figure size 576x432 with 2 Axes>"
      ]
     },
     "metadata": {
      "needs_background": "light"
     },
     "output_type": "display_data"
    }
   ],
   "source": [
    "conf_mat = pd.DataFrame(confusion_matrix(logreg.predict(testX), testY), columns = ['Prediction: Bad', 'Prediction: Good'], index = ['Actual: Bad', 'Actual: Good'])\n",
    "print('Classification Matrix for the model is: \\n')\n",
    "figure(figsize = (8, 6))\n",
    "sns.heatmap(conf_mat, annot = True, fmt = 'd')\n",
    "plt.show();"
   ]
  },
  {
   "cell_type": "markdown",
   "id": "6e78af22",
   "metadata": {},
   "source": [
    "## 2. Random Forest\n",
    "The Second classification algorithm we used is <b>Random Forest</b>\n",
    "<br>"
   ]
  },
  {
   "cell_type": "code",
   "execution_count": 30,
   "id": "21377501",
   "metadata": {},
   "outputs": [],
   "source": [
    "rf = RandomForestClassifier(n_estimators=1,max_depth=2,random_state=0)"
   ]
  },
  {
   "cell_type": "code",
   "execution_count": null,
   "id": "3695b3be",
   "metadata": {},
   "outputs": [],
   "source": []
  },
  {
   "cell_type": "code",
   "execution_count": 31,
   "id": "9d0080bc",
   "metadata": {},
   "outputs": [
    {
     "name": "stdout",
     "output_type": "stream",
     "text": [
      "********************************************************\n",
      "Applying Random forest algorithm ...\n",
      "Model is trained. It took 2.78125 seconds to train the model!\n",
      "********************************************************\n"
     ]
    }
   ],
   "source": [
    "print('********************************************************')\n",
    "print('Applying Random forest algorithm ...')\n",
    "start = process_time()\n",
    "rf.fit(trainX, trainY)\n",
    "end = process_time()\n",
    "print(f'Model is trained. It took {end - start} seconds to train the model!')\n",
    "print('********************************************************')"
   ]
  },
  {
   "cell_type": "code",
   "execution_count": 32,
   "id": "f9692443",
   "metadata": {},
   "outputs": [
    {
     "name": "stdout",
     "output_type": "stream",
     "text": [
      "0.7747090539620449\n"
     ]
    }
   ],
   "source": [
    "score = rf.score(trainX,trainY)\n",
    "print(score)"
   ]
  },
  {
   "cell_type": "code",
   "execution_count": 33,
   "id": "0ce37fec",
   "metadata": {},
   "outputs": [
    {
     "name": "stdout",
     "output_type": "stream",
     "text": [
      "0.7758578537685629\n"
     ]
    }
   ],
   "source": [
    "score = rf.score(testX,testY)\n",
    "print(score)"
   ]
  },
  {
   "cell_type": "markdown",
   "id": "6adafe59",
   "metadata": {},
   "source": [
    "### We implimented our random forest with  estimator trees . It may be not the max accurecy , So we will iterate for 2-5 estimators and check for maximum \n",
    "#### Because of heavy data we can't take more estimator trees as it will take huge time "
   ]
  },
  {
   "cell_type": "code",
   "execution_count": 35,
   "id": "626722b7",
   "metadata": {},
   "outputs": [
    {
     "name": "stdout",
     "output_type": "stream",
     "text": [
      "0.7752742482428989\n",
      "0.7787732431238219\n",
      "0.7744146245458036\n"
     ]
    }
   ],
   "source": [
    "acc_lst = []\n",
    "for i in range(1,4):\n",
    "    acc = cross_val_score(RandomForestClassifier(n_estimators=i,max_depth=2,criterion='entropy'),trainX,trainY,cv=5).mean()\n",
    "    print(acc)\n",
    "    acc_lst.append(acc)"
   ]
  },
  {
   "cell_type": "code",
   "execution_count": 77,
   "id": "bc8821e4",
   "metadata": {},
   "outputs": [
    {
     "name": "stdout",
     "output_type": "stream",
     "text": [
      "[0.7767910894659295, 0.7780765780102754, 0.77546878252584]\n"
     ]
    },
    {
     "data": {
      "image/png": "[encoded data removed]",
      "text/plain": [
       "<Figure size 432x288 with 1 Axes>"
      ]
     },
     "metadata": {
      "needs_background": "light"
     },
     "output_type": "display_data"
    }
   ],
   "source": [
    "print(acc_lst)\n",
    "plt.plot(acc_lst)\n",
    "mx = np.argmax(acc_lst)\n",
    "plt.show()"
   ]
  },
  {
   "cell_type": "markdown",
   "id": "104efeae",
   "metadata": {},
   "source": [
    "### If we calculate this for 20-30 estimator tree tree will be more randomised and we will choose the point where it gave maximum accuracy "
   ]
  },
  {
   "cell_type": "code",
   "execution_count": 78,
   "id": "3c05afdb",
   "metadata": {},
   "outputs": [
    {
     "data": {
      "text/plain": [
       "RandomForestClassifier(criterion='entropy', max_depth=3, n_estimators=1)"
      ]
     },
     "execution_count": 78,
     "metadata": {},
     "output_type": "execute_result"
    }
   ],
   "source": [
    "# We got the maximum n_estimator point now (:\n",
    "# print(mx)\n",
    "rf = RandomForestClassifier(n_estimators = 2,max_depth=3,criterion='entropy')\n",
    "rf.fit(trainX,trainY)"
   ]
  },
  {
   "cell_type": "code",
   "execution_count": 79,
   "id": "dd4cf65f",
   "metadata": {},
   "outputs": [
    {
     "name": "stdout",
     "output_type": "stream",
     "text": [
      "The model has a 77.88% Training accuracy\n",
      "The model has a 77.76% Testing accuracy\n"
     ]
    }
   ],
   "source": [
    "print(f'The model has a {rf.score(trainX,trainY) * 100:.2f}% Training accuracy')\n",
    "print(f'The model has a {rf.score(testX,testY) * 100:.2f}% Testing accuracy')"
   ]
  },
  {
   "cell_type": "code",
   "execution_count": 34,
   "id": "afe133c8",
   "metadata": {},
   "outputs": [
    {
     "name": "stdout",
     "output_type": "stream",
     "text": [
      "Classification Matrix for the model is: \n",
      "\n"
     ]
    },
    {
     "data": {
      "image/png": "[encoded data removed]",
      "text/plain": [
       "<Figure size 576x432 with 2 Axes>"
      ]
     },
     "metadata": {
      "needs_background": "light"
     },
     "output_type": "display_data"
    }
   ],
   "source": [
    "conf_matRF = pd.DataFrame(confusion_matrix(rf.predict(testX), testY), columns = ['Prediction: Bad', 'Prediction: Good'], index = ['Actual: Bad', 'Actual: Good'])\n",
    "print('Classification Matrix for the model is: \\n')\n",
    "figure(figsize = (8, 6))\n",
    "sns.heatmap(conf_matRF, annot = True, fmt = 'd')\n",
    "plt.show();"
   ]
  },
  {
   "cell_type": "markdown",
   "id": "a4de50c8",
   "metadata": {},
   "source": [
    "### We can see that Logistic Regression performs better than Random Forest Classfier on our dataset so we will dump our model as pickel file"
   ]
  },
  {
   "cell_type": "code",
   "execution_count": 141,
   "id": "ae786032",
   "metadata": {},
   "outputs": [],
   "source": [
    "pipeline_logreg = make_pipeline(TfidfVectorizer(tokenizer = RegexpTokenizer(r'[A-Za-z]+').tokenize), LogisticRegression(max_iter=600))"
   ]
  },
  {
   "cell_type": "code",
   "execution_count": 142,
   "id": "c78ed9c3",
   "metadata": {},
   "outputs": [],
   "source": [
    "trainX, testX, trainY, testY = train_test_split(url_df.url, url_df.label)"
   ]
  },
  {
   "cell_type": "code",
   "execution_count": 143,
   "id": "32b58db2",
   "metadata": {},
   "outputs": [
    {
     "name": "stdout",
     "output_type": "stream",
     "text": [
      "*******************************************\n",
      "Training...\n",
      "Process Finished\n",
      "*******************************************\n"
     ]
    }
   ],
   "source": [
    "print('*******************************************')\n",
    "print('Training...')\n",
    "pipeline_logreg.fit(trainX,trainY)\n",
    "print('Process Finished')\n",
    "print('*******************************************')"
   ]
  },
  {
   "cell_type": "code",
   "execution_count": 144,
   "id": "b825d9fc",
   "metadata": {},
   "outputs": [
    {
     "name": "stdout",
     "output_type": "stream",
     "text": [
      "The accuracy is: 0.9698529054808486\n"
     ]
    }
   ],
   "source": [
    "print(f'The accuracy is: {pipeline_logreg.score(testX, testY)}')"
   ]
  },
  {
   "cell_type": "code",
   "execution_count": 145,
   "id": "89b78f9a",
   "metadata": {},
   "outputs": [],
   "source": [
    "pickle.dump(pipeline_logreg,open('logreg.pkl','wb'))"
   ]
  },
  {
   "cell_type": "code",
   "execution_count": 146,
   "id": "5ad62507",
   "metadata": {},
   "outputs": [
    {
     "name": "stdout",
     "output_type": "stream",
     "text": [
      "0.9698529054808486\n"
     ]
    }
   ],
   "source": [
    "loaded_logreg = pickle.load(open('logreg.pkl', 'rb'))\n",
    "res = loaded_logreg.score(testX, testY)\n",
    "print(res)"
   ]
  },
  {
   "cell_type": "code",
   "execution_count": 147,
   "id": "82d808fc",
   "metadata": {},
   "outputs": [
    {
     "name": "stdout",
     "output_type": "stream",
     "text": [
      "['good']\n"
     ]
    }
   ],
   "source": [
    "url = ['stackoverflow.com/questions/']\n",
    "res = loaded_logreg.predict(url)\n",
    "print(res)"
   ]
  }
 ],
 "metadata": {
  "kernelspec": {
   "display_name": "Python 3",
   "language": "python",
   "name": "python3"
  },
  "language_info": {
   "codemirror_mode": {
    "name": "ipython",
    "version": 3
   },
   "file_extension": ".py",
   "mimetype": "text/x-python",
   "name": "python",
   "nbconvert_exporter": "python",
   "pygments_lexer": "ipython3",
   "version": "3.8.3"
  }
 },
 "nbformat": 4,
 "nbformat_minor": 5
}
